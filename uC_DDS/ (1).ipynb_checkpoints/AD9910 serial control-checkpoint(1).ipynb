{
 "cells": [
  {
   "cell_type": "markdown",
   "metadata": {},
   "source": [
    "# Chinese AD9910 PCB → Arduino\n",
    "\n",
    "### Hardware setup\n",
    "\n",
    "TBD\n",
    "    \n",
    "### Software implementation\n",
    "\n",
    "Import packages:"
   ]
  },
  {
   "cell_type": "code",
   "execution_count": 1,
   "metadata": {},
   "outputs": [],
   "source": [
    "import pyvisa"
   ]
  },
  {
   "cell_type": "markdown",
   "metadata": {},
   "source": [
    "Connect to the Arduino:"
   ]
  },
  {
   "cell_type": "code",
   "execution_count": 2,
   "metadata": {},
   "outputs": [
    {
     "name": "stdout",
     "output_type": "stream",
     "text": [
      "('ASRL1::INSTR', 'ASRL13::INSTR')\n"
     ]
    }
   ],
   "source": [
    "rm = pyvisa.ResourceManager()\n",
    "print(rm.list_resources())\n",
    "a = rm.open_resource('ASRL13::INSTR')"
   ]
  },
  {
   "cell_type": "markdown",
   "metadata": {},
   "source": [
    "Write and test a function to read all 23 registers:"
   ]
  },
  {
   "cell_type": "code",
   "execution_count": 8,
   "metadata": {},
   "outputs": [
    {
     "name": "stdout",
     "output_type": "stream",
     "text": [
      "Reading register contents:\n",
      "   0: 00000000,00000000,00000000,00000000,\n",
      "   1: 00000000,01000000,00001000,00100000,\n",
      "   2: 00011111,00111111,01000000,00000000,\n",
      "   3: 00000000,00000000,01111111,01111111,\n",
      "   4: 11111111,11111111,11111111,11111111,\n",
      "   5: 00000000,00000000,00100001,00000000,01001001,00100000,\n",
      "   6: 00000000,00000000,01000001,00001000,00000000,00000000,\n",
      "   7: 00000000,00000000,00000000,00000000,\n",
      "   8: 00000000,00000000,\n",
      "   9: 00000000,00000000,00000000,00000000,\n",
      "   A: 00000000,00000000,00000000,00000000,\n",
      "   B: 01000000,00000010,11100001,01000100,00100110,11001001,00010000,00111110,\n",
      "   C: 01110100,00000000,00000000,00000101,00100000,00100000,00000000,10000011,\n",
      "   D: 00001010,00000110,01100011,00000000,\n",
      "   E: 00000000,00000000,00000000,00000000,00000000,00000000,00000000,00000000,\n",
      "   F: 00000000,00000000,00000000,00000000,00000000,00000000,00000000,00000000,\n",
      "  10: 00000000,00000000,00000000,00000000,00000000,00000000,00000000,00000000,\n",
      "  11: 00000000,00000000,00000000,00000000,00000000,00000000,00000000,00000000,\n",
      "  12: 00000000,00000000,00000000,00000000,00000000,00000000,00000000,00000000,\n",
      "  13: 00000000,00000000,00000000,00000000,00000000,00000000,00000000,00000000,\n",
      "  14: 00000000,00000000,00000000,00000000,00000000,00000000,00000000,00000000,\n",
      "  15: 00000000,00000000,00000000,00000000,00000000,00000000,00000000,00000000,\n",
      "  16: 00100111,00111111,01010011,01011001,\n"
     ]
    }
   ],
   "source": [
    "def read_registers(arduino):\n",
    "    print(arduino.query('r'), end='')\n",
    "    for i in range(23):\n",
    "        print(arduino.read(), end='')\n",
    "        \n",
    "read_registers(a)"
   ]
  },
  {
   "cell_type": "markdown",
   "metadata": {},
   "source": [
    "Refer to the [AD9910 datasheet](https://www.analog.com/media/en/technical-documentation/data-sheets/AD9910.pdf), page 49ff, for a description of the register contents.\n",
    "\n",
    "Write functions to reset the AD9910, and to write register contents:"
   ]
  },
  {
   "cell_type": "code",
   "execution_count": 9,
   "metadata": {},
   "outputs": [],
   "source": [
    "def reset(arduino):\n",
    "    print(arduino.query('0'))\n",
    "    \n",
    "def write_register(arduino, reg, data_list, printing=False):\n",
    "    # send the write command\n",
    "    arduino.write_raw(\n",
    "        b\"w\" \\\n",
    "          + bytes(bytearray([reg])) \\\n",
    "          + bytes(bytearray(data_list))\n",
    "      )\n",
    "    \n",
    "    # print Arduino's return text\n",
    "    return_text = arduino.read(), arduino.read(), arduino.read(), arduino.read(),  arduino.read(),  arduino.read()\n",
    "    if printing:\n",
    "        for t in return_text:\n",
    "            print(t, end='')"
   ]
  },
  {
   "cell_type": "markdown",
   "metadata": {},
   "source": [
    "Test writing to one of the registers:"
   ]
  },
  {
   "cell_type": "code",
   "execution_count": 10,
   "metadata": {},
   "outputs": [
    {
     "name": "stdout",
     "output_type": "stream",
     "text": [
      "Reading from register 2:   \n",
      "  00011111,00111111,01000000,00000000,\n",
      "Writing to register 2:   \n",
      "  00011111,00111111,11000000,00000000,\n",
      "Reading from register 2:   \n",
      "  00011111,00111111,11000000,00000000,\n"
     ]
    }
   ],
   "source": [
    "write_register(\n",
    "    a,\n",
    "    0x02,\n",
    "    [0b00011111,0b00111111,0b11000000,0b00000000,],\n",
    "    printing=True\n",
    "  )"
   ]
  },
  {
   "cell_type": "markdown",
   "metadata": {},
   "source": [
    "The following writes the register values that cause the AD9910 to output an 85 MHz sine wave for a 1 GHz clock input.\n",
    "\n",
    "Note in particular the MSB of the second least significant byte in register 0x02, \"REFCLK input divider bypass\", which, when set to 1, disables the internal clock divider.\n",
    "\n",
    "![](CFR3.png)\n",
    "\n",
    "The amplitude, phase, and frequency settings of profile 0 are written in the 0x0E register."
   ]
  },
  {
   "cell_type": "code",
   "execution_count": 11,
   "metadata": {},
   "outputs": [
    {
     "name": "stdout",
     "output_type": "stream",
     "text": [
      "Device reset complete.\n",
      "\n"
     ]
    }
   ],
   "source": [
    "reset(a)\n",
    "write_register(a, 0x00, [0b00000000,0b00000000,0b00000000,0b00000000,])\n",
    "write_register(a, 0x01, [0b00000000,0b01000000,0b00001000,0b00100000,])\n",
    "write_register(a, 0x02, [0b00011111,0b00111111,0b11000000,0b00000000,])\n",
    "write_register(a, 0x03, [0b00000000,0b00000000,0b01111111,0b01111111,])\n",
    "write_register(a, 0x04, [0b11111111,0b11111111,0b11111111,0b11111111,])\n",
    "write_register(a, 0x05, [0b11101001,0b00100000,0b01100100,0b10001001,0b11000100,0b11100000,])\n",
    "write_register(a, 0x06, [0b10000111,0b00101100,0b00000101,0b10101001,0b10000000,0b00101001,])\n",
    "write_register(a, 0x07, [0b00000000,0b00000000,0b00000000,0b00000000,])\n",
    "write_register(a, 0x08, [0b00000000,0b00000000,])\n",
    "write_register(a, 0x09, [0b00000000,0b00000000,0b00000000,0b00000000,])\n",
    "write_register(a, 0x0A, [0b00000000,0b00000000,0b00000000,0b00000000,])\n",
    "write_register(a, 0x0B, [0b10100001,0b10011001,0b11000100,0b00011010,0b00011001,0b00101110,0b00000011,0b11000100,])\n",
    "write_register(a, 0x0C, [0b11000100,0b10101001,0b10110000,0b10000101,0b00000011,0b11000000,0b10000011,0b10110000,])\n",
    "write_register(a, 0x0D, [0b01001110,0b11010000,0b00000000,0b00011100,])\n",
    "for reg in range(0x0E, 0x15 + 1):\n",
    "    write_register(a, reg, [0b00001000, 0b10110101, 0b00000000, 0b00000000, 0b00011101, 0b00000011, 0b01101001, 0b11010000])\n",
    "write_register(a, 0x16, [0b00111000,0b11010000,0b01010011,0b11000111,])"
   ]
  },
  {
   "cell_type": "markdown",
   "metadata": {},
   "source": [
    "Close connection to the Arduino:"
   ]
  },
  {
   "cell_type": "code",
   "execution_count": 26,
   "metadata": {},
   "outputs": [],
   "source": [
    "a.close()"
   ]
  },
  {
   "cell_type": "markdown",
   "metadata": {},
   "source": [
    "### Parallel data input\n",
    "\n",
    "In order to enable controlling the AD9910 via the 18-bit parallel port, the Parallel data port enable bit in the least significant byte of register `CFR2` (0x01) has to be 1:\n",
    "\n",
    "![](CFR2.png)\n",
    "\n",
    "In addition, a high voltage level has to be applied to the `TxENABLE` pin of the AD9910 (`TEN` on the PCB):\n",
    "\n",
    "![](TEN.png)"
   ]
  },
  {
   "cell_type": "code",
   "execution_count": 20,
   "metadata": {},
   "outputs": [
    {
     "name": "stdout",
     "output_type": "stream",
     "text": [
      "Reading from register 1:   \n",
      "  00000000,01000000,00001000,00100000,\n",
      "Writing to register 1:   \n",
      "  00000000,01000000,00001000,00110000,\n",
      "Reading from register 1:   \n",
      "  00000000,01000000,00001000,00110000,\n"
     ]
    }
   ],
   "source": [
    "write_register(\n",
    "    a,\n",
    "    0x01,\n",
    "    [0b00000000,0b01000000,0b00001000,0b00110000,],\n",
    "    printing=True\n",
    "  )"
   ]
  },
  {
   "cell_type": "markdown",
   "metadata": {},
   "source": [
    "In case the parallel port mode isn't desired, we can again disable it:"
   ]
  },
  {
   "cell_type": "code",
   "execution_count": 21,
   "metadata": {},
   "outputs": [],
   "source": [
    "write_register(\n",
    "    a,\n",
    "    0x01,\n",
    "    [0b00000000,0b01000000,0b00001000,0b00100000,],\n",
    "    printing=False\n",
    "  )"
   ]
  },
  {
   "cell_type": "markdown",
   "metadata": {},
   "source": [
    "### Selecting output frequency\n",
    "\n",
    "The last four bytes of registers 0E till 15 are the frequency tuning word (FTW):\n",
    "\n",
    "![](profile0.png)\n",
    "\n",
    "The following function calculates the correct FTW given the clock frequency and the desired output frequency:"
   ]
  },
  {
   "cell_type": "code",
   "execution_count": 22,
   "metadata": {},
   "outputs": [],
   "source": [
    "def FTW(Fsysclk, Fout):\n",
    "    # calculate the exact FTW\n",
    "    FTW = 2**32 * (Fout / Fsysclk)\n",
    "    \n",
    "    # round to the nearest integer\n",
    "    FTW_int = int(FTW)\n",
    "    \n",
    "    # convert to bytes\n",
    "    FTW_bytes = FTW_int.to_bytes(4, byteorder='big')\n",
    "    \n",
    "    # convert to list of integers\n",
    "    return [int(x) for x in FTW_bytes]"
   ]
  },
  {
   "cell_type": "markdown",
   "metadata": {},
   "source": [
    "Since we might not know which profile is currently selected, we can just write the same data to all profiles to guarantee the setting will be active:"
   ]
  },
  {
   "cell_type": "code",
   "execution_count": 23,
   "metadata": {},
   "outputs": [],
   "source": [
    "for reg in range(0x0E, 0x15 + 1):\n",
    "    write_register(\n",
    "        a,\n",
    "        reg,\n",
    "        [0b00001000, 0b10110101, 0b00000000, 0b00000000] + FTW(384e6, 85e6),\n",
    "        printing=False\n",
    "      )"
   ]
  },
  {
   "cell_type": "markdown",
   "metadata": {},
   "source": [
    "### Enabling amplitude scale factor (ASF)\n",
    "\n",
    "First, the LSB of the most significant byte of register `CFR2` (`0x01`) needs to be set to 1 (Enable amplitude scale from single tone profiles):"
   ]
  },
  {
   "cell_type": "code",
   "execution_count": 115,
   "metadata": {},
   "outputs": [],
   "source": [
    "write_register(a, 0x01, [0b00000001,0b01000000,0b00001000,0b00100000,])"
   ]
  },
  {
   "cell_type": "markdown",
   "metadata": {},
   "source": [
    "There is 14 bits of amplitude information. Define a function to convert from percentage to ASF:"
   ]
  },
  {
   "cell_type": "code",
   "execution_count": 9,
   "metadata": {},
   "outputs": [],
   "source": [
    "def ASF(ASF_perc):\n",
    "    # convert from percentage to integer\n",
    "    ASF_perc_int = int(ASF_perc/100 * 2**14-1)\n",
    "    \n",
    "    # convert to bytes\n",
    "    FTW_bytes = ASF_perc_int.to_bytes(2, byteorder='big')\n",
    "    \n",
    "    # convert to list of integers\n",
    "    return [int(x) for x in FTW_bytes]"
   ]
  },
  {
   "cell_type": "markdown",
   "metadata": {},
   "source": [
    "The amplitude scale factor resides in the two most significant bytes of the profile register:"
   ]
  },
  {
   "cell_type": "code",
   "execution_count": 111,
   "metadata": {},
   "outputs": [],
   "source": [
    "for reg in range(0x0E, 0x15 + 1):\n",
    "    write_register(\n",
    "        a,\n",
    "        reg,\n",
    "        [0b00011000, 0b10110101, 0b00000000, 0b00000000] + FTW(750e6, 85e6),\n",
    "        printing=False\n",
    "      )"
   ]
  },
  {
   "cell_type": "markdown",
   "metadata": {},
   "source": [
    "Now disable ASF again when not needed:"
   ]
  },
  {
   "cell_type": "code",
   "execution_count": 116,
   "metadata": {},
   "outputs": [],
   "source": [
    "write_register(a, 0x01, [0b00000000,0b01000000,0b00001000,0b00100000,])"
   ]
  }
 ],
 "metadata": {
  "kernelspec": {
   "display_name": "Python 3",
   "language": "python",
   "name": "python3"
  },
  "language_info": {
   "codemirror_mode": {
    "name": "ipython",
    "version": 3
   },
   "file_extension": ".py",
   "mimetype": "text/x-python",
   "name": "python",
   "nbconvert_exporter": "python",
   "pygments_lexer": "ipython3",
   "version": "3.6.5"
  }
 },
 "nbformat": 4,
 "nbformat_minor": 2
}
