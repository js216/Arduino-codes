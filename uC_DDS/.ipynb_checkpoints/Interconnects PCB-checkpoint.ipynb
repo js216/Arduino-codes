{
 "cells": [
  {
   "cell_type": "markdown",
   "metadata": {},
   "source": [
    "# PID interconnects PCB\n",
    "\n",
    "Import packages:"
   ]
  },
  {
   "cell_type": "code",
   "execution_count": 2,
   "metadata": {},
   "outputs": [],
   "source": [
    "import pyvisa\n",
    "import time\n",
    "import matplotlib.pyplot as plt\n",
    "import matplotlib.patches as plt_patches\n",
    "from tqdm import tqdm_notebook\n",
    "import numpy as np\n",
    "import h5py"
   ]
  },
  {
   "cell_type": "code",
   "execution_count": 3,
   "metadata": {},
   "outputs": [],
   "source": [
    "# plot font sizes\n",
    "factor = 3\n",
    "SMALL_SIZE = factor*8\n",
    "MEDIUM_SIZE = factor*10\n",
    "BIGGER_SIZE = factor*12\n",
    "plt.rc('font', size=SMALL_SIZE)          # controls default text sizes\n",
    "plt.rc('axes', titlesize=SMALL_SIZE)     # fontsize of the axes title\n",
    "plt.rc('axes', labelsize=MEDIUM_SIZE)    # fontsize of the x and y labels\n",
    "plt.rc('xtick', labelsize=SMALL_SIZE)    # fontsize of the tick labels\n",
    "plt.rc('ytick', labelsize=SMALL_SIZE)    # fontsize of the tick labels\n",
    "plt.rc('legend', fontsize=SMALL_SIZE)    # legend fontsize\n",
    "plt.rc('figure', titlesize=BIGGER_SIZE)  # fontsize of the figure title"
   ]
  },
  {
   "cell_type": "markdown",
   "metadata": {},
   "source": [
    "Connect to the serial devices:"
   ]
  },
  {
   "cell_type": "code",
   "execution_count": 4,
   "metadata": {},
   "outputs": [],
   "source": [
    "rm = pyvisa.ResourceManager()"
   ]
  },
  {
   "cell_type": "code",
   "execution_count": 5,
   "metadata": {},
   "outputs": [
    {
     "data": {
      "text/plain": [
       "('ASRL1::INSTR',\n",
       " 'ASRL7::INSTR',\n",
       " 'ASRL13::INSTR',\n",
       " 'ASRL14::INSTR',\n",
       " 'ASRL15::INSTR')"
      ]
     },
     "execution_count": 5,
     "metadata": {},
     "output_type": "execute_result"
    }
   ],
   "source": [
    "rm.list_resources()"
   ]
  },
  {
   "cell_type": "code",
   "execution_count": 35,
   "metadata": {},
   "outputs": [],
   "source": [
    "arduino = rm.open_resource('ASRL13::INSTR')"
   ]
  },
  {
   "cell_type": "code",
   "execution_count": null,
   "metadata": {},
   "outputs": [],
   "source": [
    "arduino.close()"
   ]
  },
  {
   "cell_type": "markdown",
   "metadata": {},
   "source": [
    "### Arduino for serial communications"
   ]
  },
  {
   "cell_type": "markdown",
   "metadata": {},
   "source": [
    "Define functions to read and write to the AD9910 registers:"
   ]
  },
  {
   "cell_type": "code",
   "execution_count": 36,
   "metadata": {},
   "outputs": [],
   "source": [
    "def read_one_register(reg, printing=True):\n",
    "    # send the read command\n",
    "    arduino.write_raw(b\"1\")\n",
    "    arduino.write(str(reg))\n",
    "    \n",
    "    # get Arduino's return text\n",
    "    return_text = arduino.read(), arduino.read()\n",
    "    \n",
    "    if printing:\n",
    "        for t in return_text:\n",
    "            print(t, end='')\n",
    "    \n",
    "    # convert to list of integers\n",
    "    return [int(x,2) for x in return_text[1].strip()[:-1].split(\",\")]\n",
    "        \n",
    "def reset(arduino):\n",
    "    print(arduino.query('0'))\n",
    "    \n",
    "def write_register(reg, data_list, printing=False):\n",
    "    # send the write command\n",
    "    arduino.write_raw(b\"a\")\n",
    "    arduino.write_raw(str(reg))\n",
    "    arduino.write_raw(bytes(bytearray(data_list)))\n",
    "    \n",
    "    # print Arduino's return text\n",
    "    return_text = arduino.read(), arduino.read(), arduino.read(), arduino.read(),  arduino.read(),  arduino.read()\n",
    "    if printing:\n",
    "        for t in return_text:\n",
    "            print(t, end='')"
   ]
  },
  {
   "cell_type": "markdown",
   "metadata": {},
   "source": [
    "Test that the AD9910 outputs anything:"
   ]
  },
  {
   "cell_type": "code",
   "execution_count": null,
   "metadata": {},
   "outputs": [],
   "source": [
    "p21 85000000 750000000 100"
   ]
  }
 ],
 "metadata": {
  "kernelspec": {
   "display_name": "Python 3",
   "language": "python",
   "name": "python3"
  },
  "language_info": {
   "codemirror_mode": {
    "name": "ipython",
    "version": 3
   },
   "file_extension": ".py",
   "mimetype": "text/x-python",
   "name": "python",
   "nbconvert_exporter": "python",
   "pygments_lexer": "ipython3",
   "version": "3.6.5"
  }
 },
 "nbformat": 4,
 "nbformat_minor": 2
}
