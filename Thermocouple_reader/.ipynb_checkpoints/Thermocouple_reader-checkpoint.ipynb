{
 "cells": [
  {
   "cell_type": "markdown",
   "metadata": {},
   "source": [
    "\n",
    "# Thermocouple reader\n",
    "\n",
    "This notebook is the Python interface to the Arduino code for the Thermocouple reader.\n",
    "\n",
    "Import packages:"
   ]
  },
  {
   "cell_type": "code",
   "execution_count": 2,
   "metadata": {},
   "outputs": [],
   "source": [
    "import pyvisa\n",
    "import time\n",
    "import numpy as np\n",
    "import matplotlib.pyplot as plt\n",
    "from tqdm import tqdm_notebook"
   ]
  },
  {
   "cell_type": "markdown",
   "metadata": {},
   "source": [
    "Connect to the Arduino:"
   ]
  },
  {
   "cell_type": "code",
   "execution_count": 648,
   "metadata": {},
   "outputs": [],
   "source": [
    "rm = pyvisa.ResourceManager()\n",
    "a = rm.open_resource('ASRL15::INSTR')\n",
    "a.baud_rate = 115200\n",
    "a.read_termination = \"\\n\""
   ]
  },
  {
   "cell_type": "markdown",
   "metadata": {},
   "source": [
    "### Reading from sensors\n",
    "\n",
    "Test connection:"
   ]
  },
  {
   "cell_type": "code",
   "execution_count": 585,
   "metadata": {
    "scrolled": true
   },
   "outputs": [
    {
     "name": "stdout",
     "output_type": "stream",
     "text": [
      "Fault check:\n",
      "  FAULT:0 FAULT:1\n",
      "\n",
      "thermocouple temperatures:\n",
      "00000011 10110100 11000000 \n",
      "00000101 01011110 11100000 \n",
      "\n",
      "cold junction temperatures:\n",
      "00011111 11001100 \n",
      "00100001 01010100 \n",
      "\n",
      "configuration registers:\n",
      "10000000 00000011 \n",
      "10000000 01110011 \n"
     ]
    }
   ],
   "source": [
    "print(\"Fault check:\")\n",
    "print(\"  \"+a.query(\"f\")+\"\\n\")\n",
    "\n",
    "print(\"thermocouple temperatures:\")\n",
    "print(a.query(\"t\"))\n",
    "print(a.query(\"T\")+\"\\n\")\n",
    "    \n",
    "print(\"cold junction temperatures:\")\n",
    "print(a.query(\"j\"))\n",
    "print(a.query(\"J\")+\"\\n\")\n",
    "\n",
    "print(\"configuration registers:\")\n",
    "print(a.query(\"c\"))\n",
    "print(a.query(\"C\"))"
   ]
  },
  {
   "cell_type": "markdown",
   "metadata": {},
   "source": [
    "Write function for converting from returned strings to float-type temperatures:"
   ]
  },
  {
   "cell_type": "code",
   "execution_count": 554,
   "metadata": {},
   "outputs": [],
   "source": [
    "def str_to_temp(temp_string, format=\"TC\"):\n",
    "    int_temp = int(temp_string.replace(\" \", \"\"), 2)\n",
    "    \n",
    "    if format == \"CJ\":\n",
    "        return int_temp * 127 / 32512\n",
    "    elif format == \"TC\":\n",
    "        return int_temp * 1000 / 4096000"
   ]
  },
  {
   "cell_type": "markdown",
   "metadata": {},
   "source": [
    "Test it on real data:"
   ]
  },
  {
   "cell_type": "code",
   "execution_count": 612,
   "metadata": {},
   "outputs": [
    {
     "name": "stdout",
     "output_type": "stream",
     "text": [
      "Fault check:\n",
      "  FAULT:0 FAULT:1\n",
      "\n",
      "thermocouple temperatures:\n",
      "25.5\n",
      "25.2109375 \n",
      "\n",
      "cold junction temperatures:\n",
      "27.78125\n",
      "27.71875\n"
     ]
    }
   ],
   "source": [
    "print(\"Fault check:\")\n",
    "print(\"  \"+a.query(\"f\")+\"\\n\")\n",
    "\n",
    "print(\"thermocouple temperatures:\")\n",
    "print(str_to_temp(a.query(\"t\"), \"TC\"))\n",
    "print(str_to_temp(a.query(\"T\"), \"TC\"), \"\\n\")\n",
    "    \n",
    "print(\"cold junction temperatures:\")\n",
    "print(str_to_temp(a.query(\"j\"), \"CJ\"))\n",
    "print(str_to_temp(a.query(\"J\"), \"CJ\"))"
   ]
  },
  {
   "cell_type": "markdown",
   "metadata": {},
   "source": [
    "Measure temperature for some time and write to HDF:"
   ]
  },
  {
   "cell_type": "code",
   "execution_count": 644,
   "metadata": {},
   "outputs": [
    {
     "data": {
      "application/vnd.jupyter.widget-view+json": {
       "model_id": "935f48ccaf244252bd01fd8706847399",
       "version_major": 2,
       "version_minor": 0
      },
      "text/plain": [
       "HBox(children=(IntProgress(value=0, max=1000), HTML(value='')))"
      ]
     },
     "metadata": {},
     "output_type": "display_data"
    },
    {
     "name": "stdout",
     "output_type": "stream",
     "text": [
      "\n"
     ]
    }
   ],
   "source": [
    "# collect data\n",
    "raw_data = []\n",
    "for i in tqdm_notebook(range(1000)):\n",
    "    raw_data.append([\n",
    "        time.time(),\n",
    "        str_to_temp(a.query(\"t\"), \"TC\"),\n",
    "        str_to_temp(a.query(\"T\"), \"TC\"),\n",
    "        str_to_temp(a.query(\"j\"), \"CJ\"),\n",
    "        str_to_temp(a.query(\"J\"), \"CJ\"),\n",
    "    ])\n",
    "    \n",
    "    time.sleep(0.020)\n",
    "    \n",
    "# determine time offest\n",
    "data = np.array(raw_data).T\n",
    "time_offset = data[0][0]\n",
    "data[0] -= time_offset\n",
    "    \n",
    "# store data to HDF\n",
    "dset = f.create_dataset(\"sample temperature measurements2\", data=data)\n",
    "dset.attrs['time_offset'] = time_offset\n",
    "dset.attrs['row_names'] = \"time, TC0, TC1, CJ0, CJ1\"\n",
    "dset.attrs['units'] = \"%, %, %\""
   ]
  },
  {
   "cell_type": "markdown",
   "metadata": {},
   "source": [
    "Plot the acquired data:"
   ]
  },
  {
   "cell_type": "code",
   "execution_count": 646,
   "metadata": {},
   "outputs": [
    {
     "data": {
      "image/png": "[encoded data removed]",
      "text/plain": [
       "<Figure size 432x288 with 2 Axes>"
      ]
     },
     "metadata": {},
     "output_type": "display_data"
    }
   ],
   "source": [
    "# get data\n",
    "data = f[\"sample temperature measurements2\"]\n",
    "\n",
    "# setup plot axes\n",
    "fig, ax1 = plt.subplots()\n",
    "hot, cold = \"red\", \"blue\"\n",
    "ax1.tick_params(axis='y', labelcolor=hot)\n",
    "ax2 = ax1.twinx()\n",
    "ax2.tick_params(axis='y', labelcolor=cold)\n",
    "\n",
    "# plot data\n",
    "ax1.plot(data[0], data[1], label=\"hot junction 0\", color=hot, lw=3)\n",
    "ax1.plot(data[0], data[2], label=\"hot junction 1\", color=hot)\n",
    "ax2.plot(data[0], data[3], label=\"cold junction 0\", color=cold, lw=3)\n",
    "ax2.plot(data[0], data[4], label=\"cold junction 1\", color=cold)\n",
    "\n",
    "# plot labels\n",
    "ax1.set_xlabel(\"time [s]\")\n",
    "ax1.set_ylabel(\"temperature [deg C]\", color=hot)\n",
    "ax2.set_ylabel(\"temperature [deg C]\", color=cold)\n",
    "\n",
    "# plot format\n",
    "ax1.legend(loc=(1.2,.8))\n",
    "ax2.legend(loc=(1.2,.6))\n",
    "ax1.grid()\n",
    "ax2.grid()"
   ]
  },
  {
   "cell_type": "markdown",
   "metadata": {},
   "source": [
    "### Writing to sensors\n",
    "\n",
    "Test the function for writing to MAX31856 configuration registers:"
   ]
  },
  {
   "cell_type": "code",
   "execution_count": 584,
   "metadata": {},
   "outputs": [],
   "source": [
    "a.write_raw(b\"w\" + bytes(bytearray([0b10000000, 0b00000011])));\n",
    "a.write_raw(b\"W\" + bytes(bytearray([0b10000000, 0b01110011])));"
   ]
  },
  {
   "cell_type": "markdown",
   "metadata": {},
   "source": [
    "### Testing the relays"
   ]
  },
  {
   "cell_type": "code",
   "execution_count": 649,
   "metadata": {},
   "outputs": [
    {
     "data": {
      "text/plain": [
       "(1, <StatusCode.success: 0>)"
      ]
     },
     "execution_count": 649,
     "metadata": {},
     "output_type": "execute_result"
    }
   ],
   "source": [
    "# relay 0 on\n",
    "a.write_raw(b\"r\")"
   ]
  },
  {
   "cell_type": "code",
   "execution_count": 650,
   "metadata": {},
   "outputs": [
    {
     "data": {
      "text/plain": [
       "(1, <StatusCode.success: 0>)"
      ]
     },
     "execution_count": 650,
     "metadata": {},
     "output_type": "execute_result"
    }
   ],
   "source": [
    "# relay 0 off\n",
    "a.write_raw(b\"q\")"
   ]
  },
  {
   "cell_type": "code",
   "execution_count": 634,
   "metadata": {},
   "outputs": [
    {
     "data": {
      "text/plain": [
       "(1, <StatusCode.success: 0>)"
      ]
     },
     "execution_count": 634,
     "metadata": {},
     "output_type": "execute_result"
    }
   ],
   "source": [
    "# relay 1 on\n",
    "a.write_raw(b\"R\")"
   ]
  },
  {
   "cell_type": "code",
   "execution_count": 635,
   "metadata": {},
   "outputs": [
    {
     "data": {
      "text/plain": [
       "(1, <StatusCode.success: 0>)"
      ]
     },
     "execution_count": 635,
     "metadata": {},
     "output_type": "execute_result"
    }
   ],
   "source": [
    "# relay 1 off\n",
    "a.write_raw(b\"Q\")"
   ]
  },
  {
   "cell_type": "markdown",
   "metadata": {},
   "source": [
    "### Cleanup"
   ]
  },
  {
   "cell_type": "code",
   "execution_count": 652,
   "metadata": {},
   "outputs": [],
   "source": [
    "# close the connection to the Arduino:\n",
    "a.close()\n",
    "\n",
    "# close the HDF file\n",
    "f.close()"
   ]
  }
 ],
 "metadata": {
  "kernelspec": {
   "display_name": "Python 3",
   "language": "python",
   "name": "python3"
  },
  "language_info": {
   "codemirror_mode": {
    "name": "ipython",
    "version": 3
   },
   "file_extension": ".py",
   "mimetype": "text/x-python",
   "name": "python",
   "nbconvert_exporter": "python",
   "pygments_lexer": "ipython3",
   "version": "3.6.5"
  }
 },
 "nbformat": 4,
 "nbformat_minor": 2
}
