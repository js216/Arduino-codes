{
 "cells": [
  {
   "cell_type": "code",
   "execution_count": 1,
   "id": "b4dc0f86",
   "metadata": {},
   "outputs": [],
   "source": [
    "import numpy as np\n",
    "import matplotlib.pyplot as plt\n",
    "from tqdm.notebook import tqdm\n",
    "from scipy.optimize import curve_fit\n",
    "import h5py\n",
    "import pyvisa\n",
    "import time\n",
    "from scipy.signal import savgol_filter\n",
    "import scipy.signal as signal\n",
    "from scipy import interpolate\n",
    "from matplotlib.ticker import MaxNLocator\n",
    "from scipy.optimize import least_squares"
   ]
  },
  {
   "cell_type": "code",
   "execution_count": 2,
   "id": "46e38f76",
   "metadata": {},
   "outputs": [],
   "source": [
    "factor = 2\n",
    "SMALL_SIZE = factor*8\n",
    "MEDIUM_SIZE = factor*10\n",
    "BIGGER_SIZE = factor*12\n",
    "plt.rc('font', size=SMALL_SIZE)          # controls default text sizes\n",
    "plt.rc('axes', titlesize=SMALL_SIZE)     # fontsize of the axes title\n",
    "plt.rc('axes', labelsize=MEDIUM_SIZE)    # fontsize of the x and y labels\n",
    "plt.rc('xtick', labelsize=SMALL_SIZE)    # fontsize of the tick labels\n",
    "plt.rc('ytick', labelsize=SMALL_SIZE)    # fontsize of the tick labels\n",
    "plt.rc('legend', fontsize=SMALL_SIZE)    # legend fontsize\n",
    "plt.rc('figure', titlesize=BIGGER_SIZE)  # fontsize of the figure title"
   ]
  },
  {
   "cell_type": "code",
   "execution_count": 3,
   "id": "3cb39a11",
   "metadata": {},
   "outputs": [
    {
     "data": {
      "text/plain": [
       "('ASRL4::INSTR',\n",
       " 'ASRL5::INSTR',\n",
       " 'ASRL6::INSTR',\n",
       " 'ASRL8::INSTR',\n",
       " 'ASRL11::INSTR')"
      ]
     },
     "execution_count": 3,
     "metadata": {},
     "output_type": "execute_result"
    }
   ],
   "source": [
    "rm = pyvisa.ResourceManager()\n",
    "rm.list_resources()"
   ]
  },
  {
   "cell_type": "code",
   "execution_count": 6,
   "id": "cc681d8e",
   "metadata": {},
   "outputs": [
    {
     "name": "stdout",
     "output_type": "stream",
     "text": [
      "HV_control v1.3 ready. Board B.\r\n",
      "\n"
     ]
    }
   ],
   "source": [
    "for i in range(2):\n",
    "    try:\n",
    "        HV_control = rm.open_resource('ASRL11::INSTR')\n",
    "        print(HV_control.query(\"?\"))\n",
    "    except pyvisa.VisaIOError:\n",
    "        pass"
   ]
  },
  {
   "cell_type": "code",
   "execution_count": 5,
   "id": "f69e3738",
   "metadata": {},
   "outputs": [],
   "source": [
    "DMM = rm.open_resource('GPIB0::22::INSTR')\n",
    "DMM.read_termination = \"\\r\\n\"\n",
    "DMM.timeout = 5000"
   ]
  },
  {
   "cell_type": "markdown",
   "id": "cc2cf508",
   "metadata": {},
   "source": [
    "### Data collection functions"
   ]
  },
  {
   "cell_type": "code",
   "execution_count": 7,
   "id": "a190df20",
   "metadata": {},
   "outputs": [],
   "source": [
    "def get_data(t_total, do_tqdm=True, dt=1):\n",
    "    # collect data\n",
    "    data = []\n",
    "    t0 = time.time()\n",
    "    if do_tqdm:\n",
    "        pbar = tqdm(total=t_total)\n",
    "\n",
    "    while time.time()-t0 < t_total:\n",
    "        # get data from HV_control board\n",
    "        data_str = HV_control.query('a')\n",
    "        vals_arr = [(int(x)-32768) / 65535 * (2 * 3 * 4.096) for x in data_str.split(',')]\n",
    "\n",
    "        data.append([time.time(), *vals_arr])\n",
    "        if do_tqdm:\n",
    "            pbar.update(int(time.time()-t0)+1 - pbar.n)\n",
    "        time.sleep(dt)\n",
    "\n",
    "    if do_tqdm:\n",
    "        pbar.close()\n",
    "    data = np.array(data)\n",
    "    \n",
    "    return data\n",
    "    \n",
    "def data_to_HDF(run_name, t_total, dt, fname=\"test.hdf\", overwrite=False, do_tqdm=False, comment=\"\"):\n",
    "    # check that a dataset with this run_name doesn't already exist\n",
    "    try:\n",
    "        with h5py.File(fname, 'a') as f:\n",
    "            if run_name in f.keys():\n",
    "                if overwrite:\n",
    "                    del f[run_name]\n",
    "                else:\n",
    "                    print(\"ERROR: Run name already exists.\")\n",
    "                    return\n",
    "    except OSError:\n",
    "        pass\n",
    "    \n",
    "    # get data\n",
    "    data = get_data(t_total, do_tqdm, dt)\n",
    "    \n",
    "    # save to HDF\n",
    "    with h5py.File(fname, 'a') as f:\n",
    "        dset = f.create_dataset(run_name, data=data)\n",
    "        dset.attrs['timestamp'] = time.time()\n",
    "        dset.attrs['overwritten'] = str(overwrite)\n",
    "        dset.attrs['t_total'] = t_total\n",
    "        dset.attrs['dt'] = dt\n",
    "        dset.attrs['comment'] = comment"
   ]
  },
  {
   "cell_type": "code",
   "execution_count": 8,
   "id": "26feb8bd",
   "metadata": {},
   "outputs": [],
   "source": [
    "def ramp(V_arr, dt=.1, printing=True, beep=False, do_tqdm=True):\n",
    "    # whether to display a progress bar\n",
    "    if do_tqdm:\n",
    "        tqdm_fn = tqdm\n",
    "    else:\n",
    "        tqdm_fn = lambda x:x\n",
    "        \n",
    "    for V_set in tqdm_fn(V_arr):\n",
    "        if beep:\n",
    "            winsound.Beep(1000, 500)\n",
    "        if printing:\n",
    "            print(f\"{int(V_set)} = {V_set/59055*30:.2f} kV     \", end=\"\\r\")\n",
    "        HV_control.write(f'd{int(V_set)}')\n",
    "        time.sleep(dt)"
   ]
  },
  {
   "cell_type": "markdown",
   "id": "8e8e247d",
   "metadata": {},
   "source": [
    "### Testing"
   ]
  },
  {
   "cell_type": "code",
   "execution_count": 51,
   "id": "376debae",
   "metadata": {},
   "outputs": [],
   "source": [
    "HV_control.write('p0');\n",
    "HV_control.write('r1');\n",
    "HV_control.write('h1');\n",
    "HV_control.write('d0');"
   ]
  },
  {
   "cell_type": "code",
   "execution_count": 54,
   "id": "2050444f",
   "metadata": {},
   "outputs": [],
   "source": [
    "HV_control.write(f'd{int(59055 / 30 * 0)}');"
   ]
  },
  {
   "cell_type": "code",
   "execution_count": 55,
   "id": "8af8e0b4",
   "metadata": {},
   "outputs": [],
   "source": [
    "HV_control.write('h0');\n",
    "HV_control.write(f'd{int(59055 / 30 * 0)}');"
   ]
  },
  {
   "cell_type": "code",
   "execution_count": 56,
   "id": "492d2252",
   "metadata": {},
   "outputs": [
    {
     "data": {
      "application/vnd.jupyter.widget-view+json": {
       "model_id": "b351ba4bee444a14a2e307a9fe65755c",
       "version_major": 2,
       "version_minor": 0
      },
      "text/plain": [
       "  0%|          | 0/250 [00:00<?, ?it/s]"
      ]
     },
     "metadata": {},
     "output_type": "display_data"
    },
    {
     "name": "stdout",
     "output_type": "stream",
     "text": [
      "19685 = 10.00 kV     \r"
     ]
    }
   ],
   "source": [
    "ramp(59055 / 30 * np.linspace(0, 10, 250))"
   ]
  },
  {
   "cell_type": "code",
   "execution_count": 58,
   "id": "d45e3634",
   "metadata": {},
   "outputs": [
    {
     "data": {
      "application/vnd.jupyter.widget-view+json": {
       "model_id": "257659551bde417dba0bc1cf662d50f1",
       "version_major": 2,
       "version_minor": 0
      },
      "text/plain": [
       "  0%|          | 0/999 [00:00<?, ?it/s]"
      ]
     },
     "metadata": {},
     "output_type": "display_data"
    },
    {
     "ename": "KeyboardInterrupt",
     "evalue": "",
     "output_type": "error",
     "traceback": [
      "\u001b[1;31m---------------------------------------------------------------------------\u001b[0m",
      "\u001b[1;31mKeyboardInterrupt\u001b[0m                         Traceback (most recent call last)",
      "\u001b[1;32m~\\AppData\\Local\\Temp\\ipykernel_13560\\331315954.py\u001b[0m in \u001b[0;36m<module>\u001b[1;34m\u001b[0m\n\u001b[0;32m      1\u001b[0m \u001b[1;32mfor\u001b[0m \u001b[0mi\u001b[0m \u001b[1;32min\u001b[0m \u001b[0mtqdm\u001b[0m\u001b[1;33m(\u001b[0m\u001b[0mrange\u001b[0m\u001b[1;33m(\u001b[0m\u001b[1;36m999\u001b[0m\u001b[1;33m)\u001b[0m\u001b[1;33m)\u001b[0m\u001b[1;33m:\u001b[0m\u001b[1;33m\u001b[0m\u001b[1;33m\u001b[0m\u001b[0m\n\u001b[1;32m----> 2\u001b[1;33m     data_to_HDF(\n\u001b[0m\u001b[0;32m      3\u001b[0m         \u001b[0mrun_name\u001b[0m  \u001b[1;33m=\u001b[0m \u001b[1;34mf\"A-{i}\"\u001b[0m\u001b[1;33m,\u001b[0m\u001b[1;33m\u001b[0m\u001b[1;33m\u001b[0m\u001b[0m\n\u001b[0;32m      4\u001b[0m         \u001b[0mt_total\u001b[0m   \u001b[1;33m=\u001b[0m \u001b[1;36m60\u001b[0m\u001b[1;33m,\u001b[0m\u001b[1;33m\u001b[0m\u001b[1;33m\u001b[0m\u001b[0m\n\u001b[0;32m      5\u001b[0m         \u001b[0mdt\u001b[0m        \u001b[1;33m=\u001b[0m \u001b[1;36m1\u001b[0m\u001b[1;33m,\u001b[0m\u001b[1;33m\u001b[0m\u001b[1;33m\u001b[0m\u001b[0m\n",
      "\u001b[1;32m~\\AppData\\Local\\Temp\\ipykernel_13560\\489357588.py\u001b[0m in \u001b[0;36mdata_to_HDF\u001b[1;34m(run_name, t_total, dt, fname, overwrite, do_tqdm, comment)\u001b[0m\n\u001b[0;32m     36\u001b[0m \u001b[1;33m\u001b[0m\u001b[0m\n\u001b[0;32m     37\u001b[0m     \u001b[1;31m# get data\u001b[0m\u001b[1;33m\u001b[0m\u001b[1;33m\u001b[0m\u001b[0m\n\u001b[1;32m---> 38\u001b[1;33m     \u001b[0mdata\u001b[0m \u001b[1;33m=\u001b[0m \u001b[0mget_data\u001b[0m\u001b[1;33m(\u001b[0m\u001b[0mt_total\u001b[0m\u001b[1;33m,\u001b[0m \u001b[0mdo_tqdm\u001b[0m\u001b[1;33m,\u001b[0m \u001b[0mdt\u001b[0m\u001b[1;33m)\u001b[0m\u001b[1;33m\u001b[0m\u001b[1;33m\u001b[0m\u001b[0m\n\u001b[0m\u001b[0;32m     39\u001b[0m \u001b[1;33m\u001b[0m\u001b[0m\n\u001b[0;32m     40\u001b[0m     \u001b[1;31m# save to HDF\u001b[0m\u001b[1;33m\u001b[0m\u001b[1;33m\u001b[0m\u001b[0m\n",
      "\u001b[1;32m~\\AppData\\Local\\Temp\\ipykernel_13560\\489357588.py\u001b[0m in \u001b[0;36mget_data\u001b[1;34m(t_total, do_tqdm, dt)\u001b[0m\n\u001b[0;32m     14\u001b[0m         \u001b[1;32mif\u001b[0m \u001b[0mdo_tqdm\u001b[0m\u001b[1;33m:\u001b[0m\u001b[1;33m\u001b[0m\u001b[1;33m\u001b[0m\u001b[0m\n\u001b[0;32m     15\u001b[0m             \u001b[0mpbar\u001b[0m\u001b[1;33m.\u001b[0m\u001b[0mupdate\u001b[0m\u001b[1;33m(\u001b[0m\u001b[0mint\u001b[0m\u001b[1;33m(\u001b[0m\u001b[0mtime\u001b[0m\u001b[1;33m.\u001b[0m\u001b[0mtime\u001b[0m\u001b[1;33m(\u001b[0m\u001b[1;33m)\u001b[0m\u001b[1;33m-\u001b[0m\u001b[0mt0\u001b[0m\u001b[1;33m)\u001b[0m\u001b[1;33m+\u001b[0m\u001b[1;36m1\u001b[0m \u001b[1;33m-\u001b[0m \u001b[0mpbar\u001b[0m\u001b[1;33m.\u001b[0m\u001b[0mn\u001b[0m\u001b[1;33m)\u001b[0m\u001b[1;33m\u001b[0m\u001b[1;33m\u001b[0m\u001b[0m\n\u001b[1;32m---> 16\u001b[1;33m         \u001b[0mtime\u001b[0m\u001b[1;33m.\u001b[0m\u001b[0msleep\u001b[0m\u001b[1;33m(\u001b[0m\u001b[0mdt\u001b[0m\u001b[1;33m)\u001b[0m\u001b[1;33m\u001b[0m\u001b[1;33m\u001b[0m\u001b[0m\n\u001b[0m\u001b[0;32m     17\u001b[0m \u001b[1;33m\u001b[0m\u001b[0m\n\u001b[0;32m     18\u001b[0m     \u001b[1;32mif\u001b[0m \u001b[0mdo_tqdm\u001b[0m\u001b[1;33m:\u001b[0m\u001b[1;33m\u001b[0m\u001b[1;33m\u001b[0m\u001b[0m\n",
      "\u001b[1;31mKeyboardInterrupt\u001b[0m: "
     ]
    }
   ],
   "source": [
    "for i in tqdm(range(999)):\n",
    "    data_to_HDF(\n",
    "        run_name  = f\"A-{i}\",\n",
    "        t_total   = 60,\n",
    "        dt        = 1,\n",
    "        fname     = \"negative_10may23.hdf\",\n",
    "        overwrite = True,\n",
    "        do_tqdm   = False,\n",
    "        comment   = f\"p1, h1, r1\",\n",
    "    )"
   ]
  },
  {
   "cell_type": "code",
   "execution_count": 59,
   "id": "34649c35",
   "metadata": {},
   "outputs": [
    {
     "data": {
      "application/vnd.jupyter.widget-view+json": {
       "model_id": "6be8b204533f47aab9914c532decd591",
       "version_major": 2,
       "version_minor": 0
      },
      "text/plain": [
       "  0%|          | 0/100 [00:00<?, ?it/s]"
      ]
     },
     "metadata": {},
     "output_type": "display_data"
    },
    {
     "name": "stdout",
     "output_type": "stream",
     "text": [
      "0 = 0.00 kV          \r"
     ]
    }
   ],
   "source": [
    "ramp(59055 / 30 * np.linspace(10, 0, 100))"
   ]
  },
  {
   "cell_type": "code",
   "execution_count": 62,
   "id": "fee15b51",
   "metadata": {},
   "outputs": [
    {
     "data": {
      "application/vnd.jupyter.widget-view+json": {
       "model_id": "d3dca8aa1e3a48e6849c48293ba535c3",
       "version_major": 2,
       "version_minor": 0
      },
      "text/plain": [
       "  0%|          | 0/10 [00:00<?, ?it/s]"
      ]
     },
     "metadata": {},
     "output_type": "display_data"
    }
   ],
   "source": [
    "HV_control.write(\"p1\")\n",
    "HV_control.write(\"h1\")\n",
    "HV_control.write(\"r1\")\n",
    "\n",
    "for i,V_set in enumerate(tqdm([*np.linspace(0, 6553, 9), 0])):\n",
    "    HV_control.write(f'd{int(V_set)}')\n",
    "    \n",
    "    data_to_HDF(\n",
    "        run_name  = f\"C-{i}\",\n",
    "        t_total   = 20,\n",
    "        dt        = 1,\n",
    "        fname     = \"HV_test.hdf\",\n",
    "        overwrite = False,\n",
    "        do_tqdm   = False,\n",
    "        comment   = f\"V_set={int(V_set)}, p1, h1, r1\",\n",
    "    )"
   ]
  },
  {
   "cell_type": "code",
   "execution_count": 63,
   "id": "dd1e434d",
   "metadata": {},
   "outputs": [
    {
     "data": {
      "application/vnd.jupyter.widget-view+json": {
       "model_id": "5f94d6812d5e44a89c76d8fda4e90238",
       "version_major": 2,
       "version_minor": 0
      },
      "text/plain": [
       "  0%|          | 0/10 [00:00<?, ?it/s]"
      ]
     },
     "metadata": {},
     "output_type": "display_data"
    }
   ],
   "source": [
    "HV_control.write(\"p0\")\n",
    "HV_control.write(\"h1\")\n",
    "HV_control.write(\"r1\")\n",
    "\n",
    "for i,V_set in enumerate(tqdm([*np.linspace(0, 6553, 9), 0])):\n",
    "    HV_control.write(f'd{int(V_set)}')\n",
    "    \n",
    "    data_to_HDF(\n",
    "        run_name  = f\"D-{i}\",\n",
    "        t_total   = 20,\n",
    "        dt        = 1,\n",
    "        fname     = \"HV_test.hdf\",\n",
    "        overwrite = False,\n",
    "        do_tqdm   = False,\n",
    "        comment   = f\"V_set={int(V_set)}, p0, h1, r1\",\n",
    "    )"
   ]
  },
  {
   "cell_type": "code",
   "execution_count": 64,
   "id": "e2d363a8",
   "metadata": {},
   "outputs": [
    {
     "data": {
      "application/vnd.jupyter.widget-view+json": {
       "model_id": "8eb5935d027345f0830ae8d1bc2823ea",
       "version_major": 2,
       "version_minor": 0
      },
      "text/plain": [
       "  0%|          | 0/10 [00:00<?, ?it/s]"
      ]
     },
     "metadata": {},
     "output_type": "display_data"
    }
   ],
   "source": [
    "HV_control.write(\"p1\")\n",
    "HV_control.write(\"h0\")\n",
    "HV_control.write(\"r1\")\n",
    "\n",
    "for i,V_set in enumerate(tqdm([*np.linspace(0, 6553, 9), 0])):\n",
    "    HV_control.write(f'd{int(V_set)}')\n",
    "    \n",
    "    data_to_HDF(\n",
    "        run_name  = f\"E-{i}\",\n",
    "        t_total   = 20,\n",
    "        dt        = 1,\n",
    "        fname     = \"HV_test.hdf\",\n",
    "        overwrite = False,\n",
    "        do_tqdm   = False,\n",
    "        comment   = f\"V_set={int(V_set)}, p0, h0, r1\",\n",
    "    )"
   ]
  },
  {
   "cell_type": "code",
   "execution_count": 74,
   "id": "4c6722b1",
   "metadata": {},
   "outputs": [
    {
     "data": {
      "application/vnd.jupyter.widget-view+json": {
       "model_id": "56504bebabd94252b359423034b83501",
       "version_major": 2,
       "version_minor": 0
      },
      "text/plain": [
       "  0%|          | 0/4 [00:00<?, ?it/s]"
      ]
     },
     "metadata": {},
     "output_type": "display_data"
    }
   ],
   "source": [
    "HV_control.write(\"p1\")\n",
    "HV_control.write(\"h1\")\n",
    "HV_control.write(\"r1\")\n",
    "\n",
    "for i,V_set in enumerate(tqdm([*np.linspace(0, 6553, 3), 0])):\n",
    "    HV_control.write(f'd{int(V_set)}')\n",
    "    \n",
    "    data_to_HDF(\n",
    "        run_name  = f\"G-{i}\",\n",
    "        t_total   = 20,\n",
    "        dt        = 1,\n",
    "        fname     = \"HV_test.hdf\",\n",
    "        overwrite = False,\n",
    "        do_tqdm   = False,\n",
    "        comment   = f\"V_set={int(V_set)}, p0, h0, r1\",\n",
    "    )"
   ]
  },
  {
   "cell_type": "code",
   "execution_count": 20,
   "id": "63b20dce",
   "metadata": {},
   "outputs": [],
   "source": [
    "HV_control.write(\"d0\");"
   ]
  },
  {
   "cell_type": "code",
   "execution_count": 142,
   "id": "7ac0713b",
   "metadata": {},
   "outputs": [],
   "source": [
    "HV_control.write(\"h0\");"
   ]
  },
  {
   "cell_type": "code",
   "execution_count": 141,
   "id": "02c5af7d",
   "metadata": {},
   "outputs": [],
   "source": [
    "HV_control.write(\"h1\");"
   ]
  },
  {
   "cell_type": "code",
   "execution_count": 138,
   "id": "0d716871",
   "metadata": {},
   "outputs": [],
   "source": [
    "HV_control.write(\"p0\");"
   ]
  },
  {
   "cell_type": "code",
   "execution_count": 139,
   "id": "9cb63f36",
   "metadata": {},
   "outputs": [],
   "source": [
    "HV_control.write(\"p1\");"
   ]
  },
  {
   "cell_type": "code",
   "execution_count": 55,
   "id": "b69f989c",
   "metadata": {},
   "outputs": [
    {
     "data": {
      "text/plain": [
       "[12.287812497138933,\n",
       " 12.287812497138933,\n",
       " 0.01762526894026093,\n",
       " 0.007500114442664225,\n",
       " -4.317815884641794]"
      ]
     },
     "execution_count": 55,
     "metadata": {},
     "output_type": "execute_result"
    }
   ],
   "source": [
    "data_str = HV_control.query('a')\n",
    "[(int(x)-32768) / 65535 * (2 * 3 * 4.096) for x in data_str.split(',')]"
   ]
  },
  {
   "cell_type": "code",
   "execution_count": 126,
   "id": "fac10fd4",
   "metadata": {},
   "outputs": [
    {
     "data": {
      "application/vnd.jupyter.widget-view+json": {
       "model_id": "f21dc108f8ec48039283e65e8fa0d5ca",
       "version_major": 2,
       "version_minor": 0
      },
      "text/plain": [
       "  0%|          | 0/4 [00:00<?, ?it/s]"
      ]
     },
     "metadata": {},
     "output_type": "display_data"
    }
   ],
   "source": [
    "HV_control.write(\"p0\")\n",
    "HV_control.write(\"h1\")\n",
    "HV_control.write(\"r1\")\n",
    "\n",
    "for i,V_set in enumerate(tqdm([*np.linspace(0, 6553, 3), 0])):\n",
    "    HV_control.write(f'd{int(V_set)}')\n",
    "    \n",
    "    data_to_HDF(\n",
    "        run_name  = f\"I-{i}\",\n",
    "        t_total   = 20,\n",
    "        dt        = 1,\n",
    "        fname     = \"HV_test.hdf\",\n",
    "        overwrite = False,\n",
    "        do_tqdm   = False,\n",
    "        comment   = f\"V_set={int(V_set)}, p0, h1, r1\",\n",
    "    )"
   ]
  },
  {
   "cell_type": "code",
   "execution_count": 130,
   "id": "5455cc7f",
   "metadata": {},
   "outputs": [
    {
     "data": {
      "application/vnd.jupyter.widget-view+json": {
       "model_id": "77b8f6d1ed034b18a360674bb796bca3",
       "version_major": 2,
       "version_minor": 0
      },
      "text/plain": [
       "  0%|          | 0/4 [00:00<?, ?it/s]"
      ]
     },
     "metadata": {},
     "output_type": "display_data"
    }
   ],
   "source": [
    "HV_control.write(\"p0\")\n",
    "HV_control.write(\"h0\")\n",
    "HV_control.write(\"r1\")\n",
    "\n",
    "for i,V_set in enumerate(tqdm([*np.linspace(0, 6553, 3), 0])):\n",
    "    HV_control.write(f'd{int(V_set)}')\n",
    "    \n",
    "    data_to_HDF(\n",
    "        run_name  = f\"J-{i}\",\n",
    "        t_total   = 20,\n",
    "        dt        = 1,\n",
    "        fname     = \"HV_test.hdf\",\n",
    "        overwrite = False,\n",
    "        do_tqdm   = False,\n",
    "        comment   = f\"V_set={int(V_set)}\",\n",
    "    )"
   ]
  },
  {
   "cell_type": "code",
   "execution_count": 134,
   "id": "003a3362",
   "metadata": {},
   "outputs": [
    {
     "data": {
      "application/vnd.jupyter.widget-view+json": {
       "model_id": "383b2b50274b460b97f901a4ee8c1bd5",
       "version_major": 2,
       "version_minor": 0
      },
      "text/plain": [
       "  0%|          | 0/4 [00:00<?, ?it/s]"
      ]
     },
     "metadata": {},
     "output_type": "display_data"
    }
   ],
   "source": [
    "HV_control.write(\"p0\")\n",
    "HV_control.write(\"h0\")\n",
    "HV_control.write(\"r1\")\n",
    "\n",
    "for i,V_set in enumerate(tqdm([*np.linspace(0, 6553, 3), 0])):\n",
    "    HV_control.write(f'd{int(V_set)}')\n",
    "    \n",
    "    data_to_HDF(\n",
    "        run_name  = f\"K-{i}\",\n",
    "        t_total   = 20,\n",
    "        dt        = 1,\n",
    "        fname     = \"HV_test.hdf\",\n",
    "        overwrite = False,\n",
    "        do_tqdm   = False,\n",
    "        comment   = f\"V_set={int(V_set)}\",\n",
    "    )"
   ]
  },
  {
   "cell_type": "code",
   "execution_count": 135,
   "id": "585a8e57",
   "metadata": {},
   "outputs": [
    {
     "data": {
      "application/vnd.jupyter.widget-view+json": {
       "model_id": "1174bd6b98ed4eb496215fcea585340d",
       "version_major": 2,
       "version_minor": 0
      },
      "text/plain": [
       "  0%|          | 0/4 [00:00<?, ?it/s]"
      ]
     },
     "metadata": {},
     "output_type": "display_data"
    }
   ],
   "source": [
    "HV_control.write(\"p0\")\n",
    "HV_control.write(\"h1\")\n",
    "HV_control.write(\"r1\")\n",
    "\n",
    "for i,V_set in enumerate(tqdm([*np.linspace(0, 6553, 3), 0])):\n",
    "    HV_control.write(f'd{int(V_set)}')\n",
    "    \n",
    "    data_to_HDF(\n",
    "        run_name  = f\"L-{i}\",\n",
    "        t_total   = 20,\n",
    "        dt        = 1,\n",
    "        fname     = \"HV_test.hdf\",\n",
    "        overwrite = False,\n",
    "        do_tqdm   = False,\n",
    "        comment   = f\"V_set={int(V_set)}\",\n",
    "    )"
   ]
  },
  {
   "cell_type": "code",
   "execution_count": 137,
   "id": "4785fe21",
   "metadata": {},
   "outputs": [
    {
     "data": {
      "application/vnd.jupyter.widget-view+json": {
       "model_id": "60c3e0e8e0204abda82d2ed542631586",
       "version_major": 2,
       "version_minor": 0
      },
      "text/plain": [
       "  0%|          | 0/4 [00:00<?, ?it/s]"
      ]
     },
     "metadata": {},
     "output_type": "display_data"
    }
   ],
   "source": [
    "HV_control.write(\"p1\")\n",
    "HV_control.write(\"h1\")\n",
    "HV_control.write(\"r1\")\n",
    "\n",
    "for i,V_set in enumerate(tqdm([*np.linspace(0, 6553, 3), 0])):\n",
    "    HV_control.write(f'd{int(V_set)}')\n",
    "    \n",
    "    data_to_HDF(\n",
    "        run_name  = f\"M-{i}\",\n",
    "        t_total   = 20,\n",
    "        dt        = 1,\n",
    "        fname     = \"HV_test.hdf\",\n",
    "        overwrite = False,\n",
    "        do_tqdm   = False,\n",
    "        comment   = f\"V_set={int(V_set)}\",\n",
    "    )"
   ]
  },
  {
   "cell_type": "code",
   "execution_count": 143,
   "id": "38e96df1",
   "metadata": {},
   "outputs": [
    {
     "data": {
      "application/vnd.jupyter.widget-view+json": {
       "model_id": "864e326a0061470899379dff945c8ded",
       "version_major": 2,
       "version_minor": 0
      },
      "text/plain": [
       "  0%|          | 0/4 [00:00<?, ?it/s]"
      ]
     },
     "metadata": {},
     "output_type": "display_data"
    }
   ],
   "source": [
    "HV_control.write(\"p1\")\n",
    "HV_control.write(\"h0\")\n",
    "HV_control.write(\"r1\")\n",
    "\n",
    "for i,V_set in enumerate(tqdm([*np.linspace(0, 6553, 3), 0])):\n",
    "    HV_control.write(f'd{int(V_set)}')\n",
    "    \n",
    "    data_to_HDF(\n",
    "        run_name  = f\"N-{i}\",\n",
    "        t_total   = 20,\n",
    "        dt        = 1,\n",
    "        fname     = \"HV_test.hdf\",\n",
    "        overwrite = False,\n",
    "        do_tqdm   = False,\n",
    "        comment   = f\"V_set={int(V_set)}\",\n",
    "    )"
   ]
  },
  {
   "cell_type": "code",
   "execution_count": 144,
   "id": "c72e20f1",
   "metadata": {},
   "outputs": [
    {
     "data": {
      "application/vnd.jupyter.widget-view+json": {
       "model_id": "b267ee8613084227b53a2f4e7974accd",
       "version_major": 2,
       "version_minor": 0
      },
      "text/plain": [
       "  0%|          | 0/4 [00:00<?, ?it/s]"
      ]
     },
     "metadata": {},
     "output_type": "display_data"
    }
   ],
   "source": [
    "HV_control.write(\"p1\")\n",
    "HV_control.write(\"h1\")\n",
    "HV_control.write(\"r1\")\n",
    "\n",
    "for i,V_set in enumerate(tqdm([*np.linspace(0, 6553, 3), 0])):\n",
    "    HV_control.write(f'd{int(V_set)}')\n",
    "    \n",
    "    data_to_HDF(\n",
    "        run_name  = f\"O-{i}\",\n",
    "        t_total   = 20,\n",
    "        dt        = 1,\n",
    "        fname     = \"HV_test.hdf\",\n",
    "        overwrite = False,\n",
    "        do_tqdm   = False,\n",
    "        comment   = f\"V_set={int(V_set)}\",\n",
    "    )"
   ]
  },
  {
   "cell_type": "code",
   "execution_count": 184,
   "id": "2d072828",
   "metadata": {},
   "outputs": [
    {
     "data": {
      "application/vnd.jupyter.widget-view+json": {
       "model_id": "2fba3d02705f4abb9ac42a7e07ceadc7",
       "version_major": 2,
       "version_minor": 0
      },
      "text/plain": [
       "  0%|          | 0/11 [00:00<?, ?it/s]"
      ]
     },
     "metadata": {},
     "output_type": "display_data"
    }
   ],
   "source": [
    "HV_control.write(\"p1\")\n",
    "HV_control.write(\"h1\")\n",
    "HV_control.write(\"r1\")\n",
    "\n",
    "for i,V_set in enumerate(tqdm([*np.linspace(0, 20000, 10), 0])):\n",
    "    HV_control.write(f'd{int(V_set)}')\n",
    "    \n",
    "    data_to_HDF(\n",
    "        run_name  = f\"P-{i}\",\n",
    "        t_total   = 20,\n",
    "        dt        = 1,\n",
    "        fname     = \"HV_test.hdf\",\n",
    "        overwrite = True,\n",
    "        do_tqdm   = False,\n",
    "        comment   = f\"V_set={int(V_set)}\",\n",
    "    )\n",
    "    \n",
    "HV_control.write(\"h1\");"
   ]
  },
  {
   "cell_type": "code",
   "execution_count": 186,
   "id": "2741c61b",
   "metadata": {},
   "outputs": [
    {
     "data": {
      "application/vnd.jupyter.widget-view+json": {
       "model_id": "647abcf3b4894fe5ab1fc5b44bb44ab8",
       "version_major": 2,
       "version_minor": 0
      },
      "text/plain": [
       "  0%|          | 0/11 [00:00<?, ?it/s]"
      ]
     },
     "metadata": {},
     "output_type": "display_data"
    }
   ],
   "source": [
    "HV_control.write(\"p0\")\n",
    "HV_control.write(\"h1\")\n",
    "HV_control.write(\"r1\")\n",
    "\n",
    "for i,V_set in enumerate(tqdm([*np.linspace(0, 20000, 10), 0])):\n",
    "    HV_control.write(f'd{int(V_set)}')\n",
    "    \n",
    "    data_to_HDF(\n",
    "        run_name  = f\"Q-{i}\",\n",
    "        t_total   = 20,\n",
    "        dt        = 1,\n",
    "        fname     = \"HV_test.hdf\",\n",
    "        overwrite = True,\n",
    "        do_tqdm   = False,\n",
    "        comment   = f\"V_set={int(V_set)}\",\n",
    "    )\n",
    "    \n",
    "HV_control.write(\"h1\");"
   ]
  },
  {
   "cell_type": "code",
   "execution_count": 187,
   "id": "31660711",
   "metadata": {},
   "outputs": [
    {
     "data": {
      "application/vnd.jupyter.widget-view+json": {
       "model_id": "c740e88006b64f7197d1472677421ac5",
       "version_major": 2,
       "version_minor": 0
      },
      "text/plain": [
       "  0%|          | 0/11 [00:00<?, ?it/s]"
      ]
     },
     "metadata": {},
     "output_type": "display_data"
    }
   ],
   "source": [
    "HV_control.write(\"p1\")\n",
    "HV_control.write(\"h0\")\n",
    "HV_control.write(\"r1\")\n",
    "\n",
    "for i,V_set in enumerate(tqdm([*np.linspace(0, 20000, 10), 0])):\n",
    "    HV_control.write(f'd{int(V_set)}')\n",
    "    \n",
    "    data_to_HDF(\n",
    "        run_name  = f\"R-{i}\",\n",
    "        t_total   = 20,\n",
    "        dt        = 1,\n",
    "        fname     = \"HV_test.hdf\",\n",
    "        overwrite = True,\n",
    "        do_tqdm   = False,\n",
    "        comment   = f\"V_set={int(V_set)}\",\n",
    "    )\n",
    "    \n",
    "HV_control.write(\"h1\");"
   ]
  },
  {
   "cell_type": "code",
   "execution_count": 183,
   "id": "62a0db5d",
   "metadata": {},
   "outputs": [
    {
     "data": {
      "application/vnd.jupyter.widget-view+json": {
       "model_id": "72dce247b0f845958b8dc1ff6b84156a",
       "version_major": 2,
       "version_minor": 0
      },
      "text/plain": [
       "  0%|          | 0/11 [00:00<?, ?it/s]"
      ]
     },
     "metadata": {},
     "output_type": "display_data"
    }
   ],
   "source": [
    "HV_control.write(\"p0\")\n",
    "HV_control.write(\"h0\")\n",
    "HV_control.write(\"r1\")\n",
    "\n",
    "for i,V_set in enumerate(tqdm([*np.linspace(0, 20000, 10), 0])):\n",
    "    HV_control.write(f'd{int(V_set)}')\n",
    "    \n",
    "    data_to_HDF(\n",
    "        run_name  = f\"S-{i}\",\n",
    "        t_total   = 20,\n",
    "        dt        = 1,\n",
    "        fname     = \"HV_test.hdf\",\n",
    "        overwrite = True,\n",
    "        do_tqdm   = False,\n",
    "        comment   = f\"V_set={int(V_set)}\",\n",
    "    )\n",
    "    \n",
    "HV_control.write(\"h1\");"
   ]
  },
  {
   "cell_type": "code",
   "execution_count": 172,
   "id": "b08827c2",
   "metadata": {},
   "outputs": [],
   "source": [
    "HV_control.write(\"p0\");"
   ]
  },
  {
   "cell_type": "code",
   "execution_count": null,
   "id": "c38461e0",
   "metadata": {},
   "outputs": [],
   "source": [
    "HV_control.write(\"p1\");"
   ]
  },
  {
   "cell_type": "code",
   "execution_count": 182,
   "id": "52937de9",
   "metadata": {},
   "outputs": [],
   "source": [
    "HV_control.write(\"h0\");"
   ]
  },
  {
   "cell_type": "code",
   "execution_count": 181,
   "id": "06cd5c5b",
   "metadata": {},
   "outputs": [],
   "source": [
    "HV_control.write(\"h1\");"
   ]
  }
 ],
 "metadata": {
  "kernelspec": {
   "display_name": "Python 3 (ipykernel)",
   "language": "python",
   "name": "python3"
  },
  "language_info": {
   "codemirror_mode": {
    "name": "ipython",
    "version": 3
   },
   "file_extension": ".py",
   "mimetype": "text/x-python",
   "name": "python",
   "nbconvert_exporter": "python",
   "pygments_lexer": "ipython3",
   "version": "3.9.13"
  }
 },
 "nbformat": 4,
 "nbformat_minor": 5
}
