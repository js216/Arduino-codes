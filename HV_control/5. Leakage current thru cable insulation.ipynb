{
 "cells": [
  {
   "cell_type": "code",
   "execution_count": 1,
   "id": "b4dc0f86",
   "metadata": {},
   "outputs": [],
   "source": [
    "import numpy as np\n",
    "import matplotlib.pyplot as plt\n",
    "from tqdm.notebook import tqdm\n",
    "from scipy.optimize import curve_fit\n",
    "import h5py\n",
    "import pyvisa\n",
    "import time\n",
    "from scipy.signal import savgol_filter\n",
    "import scipy.signal as signal\n",
    "from scipy import interpolate\n",
    "from matplotlib.ticker import MaxNLocator\n",
    "from scipy.optimize import least_squares\n",
    "import winsound"
   ]
  },
  {
   "cell_type": "code",
   "execution_count": 2,
   "id": "46e38f76",
   "metadata": {},
   "outputs": [],
   "source": [
    "factor = 2\n",
    "SMALL_SIZE = factor*8\n",
    "MEDIUM_SIZE = factor*10\n",
    "BIGGER_SIZE = factor*12\n",
    "plt.rc('font', size=SMALL_SIZE)          # controls default text sizes\n",
    "plt.rc('axes', titlesize=SMALL_SIZE)     # fontsize of the axes title\n",
    "plt.rc('axes', labelsize=MEDIUM_SIZE)    # fontsize of the x and y labels\n",
    "plt.rc('xtick', labelsize=SMALL_SIZE)    # fontsize of the tick labels\n",
    "plt.rc('ytick', labelsize=SMALL_SIZE)    # fontsize of the tick labels\n",
    "plt.rc('legend', fontsize=SMALL_SIZE)    # legend fontsize\n",
    "plt.rc('figure', titlesize=BIGGER_SIZE)  # fontsize of the figure title"
   ]
  },
  {
   "cell_type": "code",
   "execution_count": 3,
   "id": "3cb39a11",
   "metadata": {},
   "outputs": [
    {
     "data": {
      "text/plain": [
       "('USB0::0x1AB1::0x04CE::DS1ZA204519116::INSTR',\n",
       " 'ASRL4::INSTR',\n",
       " 'ASRL5::INSTR',\n",
       " 'ASRL6::INSTR',\n",
       " 'ASRL8::INSTR')"
      ]
     },
     "execution_count": 3,
     "metadata": {},
     "output_type": "execute_result"
    }
   ],
   "source": [
    "rm = pyvisa.ResourceManager()\n",
    "rm.list_resources()"
   ]
  },
  {
   "cell_type": "code",
   "execution_count": 4,
   "id": "cc681d8e",
   "metadata": {
    "scrolled": true
   },
   "outputs": [
    {
     "name": "stdout",
     "output_type": "stream",
     "text": [
      "HV_control v1.3 ready. Board B.\r\n",
      "\n",
      "HV_control v1.3 ready. Board B.\r\n",
      "\n"
     ]
    }
   ],
   "source": [
    "for i in range(2):\n",
    "    try:\n",
    "        HV_control = rm.open_resource('ASRL6::INSTR')\n",
    "        print(HV_control.query(\"?\"))\n",
    "    except pyvisa.VisaIOError:\n",
    "        pass"
   ]
  },
  {
   "cell_type": "code",
   "execution_count": 21,
   "id": "5f2f856f",
   "metadata": {},
   "outputs": [],
   "source": [
    "HV_control.close()"
   ]
  },
  {
   "cell_type": "code",
   "execution_count": 39,
   "id": "f69e3738",
   "metadata": {},
   "outputs": [],
   "source": [
    "DMM = rm.open_resource('GPIB0::22::INSTR')\n",
    "DMM.read_termination = \"\\r\\n\"\n",
    "DMM.timeout = 5000"
   ]
  },
  {
   "cell_type": "code",
   "execution_count": 4,
   "id": "c54d47ce",
   "metadata": {},
   "outputs": [
    {
     "data": {
      "text/plain": [
       "'RIGOL TECHNOLOGIES,DS1104Z,DS1ZA204519116,00.04.04.SP3\\n'"
      ]
     },
     "execution_count": 4,
     "metadata": {},
     "output_type": "execute_result"
    }
   ],
   "source": [
    "scope = rm.open_resource('USB0::0x1AB1::0x04CE::DS1ZA204519116::INSTR')\n",
    "scope.query(\"*IDN?\")"
   ]
  },
  {
   "cell_type": "markdown",
   "id": "cc2cf508",
   "metadata": {},
   "source": [
    "### Data collection functions"
   ]
  },
  {
   "cell_type": "code",
   "execution_count": 5,
   "id": "a190df20",
   "metadata": {},
   "outputs": [],
   "source": [
    "def get_data(t_total, do_tqdm, NPLC):\n",
    "    # start the measurement\n",
    "    DMM.clear()\n",
    "    DMM.write(f\"NDIG 8\")\n",
    "    DMM.write(f\"NPLC {NPLC}\")\n",
    "    DMM.write(\"TARM AUTO\")\n",
    "    \n",
    "    # collect data\n",
    "    data = []\n",
    "    t0 = time.time()\n",
    "    if do_tqdm:\n",
    "        pbar = tqdm(total=t_total)\n",
    "\n",
    "    while time.time()-t0 < t_total:\n",
    "        # get data from HV_control board\n",
    "        data_str = HV_control.query('a')\n",
    "        vals_arr = [(int(x)-32768) / 65535 * (2 * 3 * 4.096) for x in data_str.split(',')]\n",
    "        \n",
    "        data.append([time.time(), *vals_arr, float(DMM.read())])\n",
    "        print(f\"{10*data[-1][4]:.3f} kV, {data[-1][-1]:.9f} mV\", end='\\r')\n",
    "        if do_tqdm:\n",
    "            pbar.update(int(time.time()-t0)+1 - pbar.n)\n",
    "\n",
    "    if do_tqdm:\n",
    "        pbar.close()\n",
    "    data = np.array(data)\n",
    "    \n",
    "    return data\n",
    "    \n",
    "def DMM_to_HDF(run_name, t_total, fname=\"test.hdf\", overwrite=False, do_tqdm=False, NPLC=10, comment=\"\"):\n",
    "    # check that a dataset with this run_name doesn't already exist\n",
    "    try:\n",
    "        with h5py.File(fname, 'a') as f:\n",
    "            if run_name in f.keys():\n",
    "                if overwrite:\n",
    "                    del f[run_name]\n",
    "                else:\n",
    "                    print(\"ERROR: Run name already exists.\")\n",
    "                    return\n",
    "    except OSError:\n",
    "        pass\n",
    "    \n",
    "    # get data\n",
    "    data = get_data(t_total, do_tqdm, NPLC)\n",
    "    \n",
    "    # save to HDF\n",
    "    with h5py.File(fname, 'a') as f:\n",
    "        dset = f.create_dataset(run_name, data=data)\n",
    "        dset.attrs['timestamp'] = time.time()\n",
    "        dset.attrs['overwritten'] = str(overwrite)\n",
    "        dset.attrs['t_total'] = t_total\n",
    "        dset.attrs['DMM_temp'] = float(DMM.query(\"TEMP?\"))\n",
    "        dset.attrs['NPLC'] = NPLC\n",
    "        dset.attrs['comment'] = comment"
   ]
  },
  {
   "cell_type": "code",
   "execution_count": 6,
   "id": "fb4746e6",
   "metadata": {},
   "outputs": [],
   "source": [
    "def ramp(V_arr, dt=.1, printing=True, beep=False, do_tqdm=True):\n",
    "    # whether to display a progress bar\n",
    "    if do_tqdm:\n",
    "        tqdm_fn = tqdm\n",
    "    else:\n",
    "        tqdm_fn = lambda x:x\n",
    "        \n",
    "    for V_set in tqdm_fn(V_arr):\n",
    "        if beep:\n",
    "            winsound.Beep(1000, 500)\n",
    "        if printing:\n",
    "            print(f\"{int(V_set)} = {V_set/59055*30:.2f} kV     \", end=\"\\r\")\n",
    "        HV_control.write(f'd{int(V_set)}')\n",
    "        time.sleep(dt)"
   ]
  },
  {
   "cell_type": "code",
   "execution_count": 7,
   "id": "30380000",
   "metadata": {},
   "outputs": [],
   "source": [
    "def measure_AC(run_name, fname, freq_arr, polarity=\"positive\", amp=2000, offs=10000, dt0=60, overwrite=False):\n",
    "    # check that a dataset with this run_name doesn't already exist\n",
    "    try:\n",
    "        with h5py.File(fname, 'a') as f:\n",
    "            if run_name in f.keys():\n",
    "                if overwrite:\n",
    "                    del f[run_name]\n",
    "                else:\n",
    "                    print(\"ERROR: Run name already exists.\")\n",
    "                    return\n",
    "    except OSError:\n",
    "        pass\n",
    "\n",
    "    # set TOF3000\n",
    "    HV_control.write('h1');\n",
    "    HV_control.write('r1');\n",
    "    HV_control.write('d0');\n",
    "    if polarity == \"positive\":\n",
    "        HV_control.write('p1');\n",
    "    elif polarity == \"negative\":\n",
    "        HV_control.write('p1');\n",
    "    HV_control.write('h0');\n",
    "    ramp(np.linspace(0, offs, 100), do_tqdm=False)\n",
    "    \n",
    "    # get data\n",
    "    data = []\n",
    "    dt_arr = [int(x) for x in dt0/np.array(freq_arr)]\n",
    "    try:\n",
    "        for freq,dt in zip(tqdm(freq_arr), dt_arr):\n",
    "            scope.write(f\":TIM:SCAL {dt/24}\")\n",
    "            scope.write(f\":TIM:OFFS {0}\")\n",
    "            HV_control.write(f\"A0; S1,{freq},{amp},{offs}\");\n",
    "            for i in range(3*dt):\n",
    "                time.sleep(1)\n",
    "            try:\n",
    "                Vpp = float(scope.query(\":MEAS:ITEM? Vpp,CHAN2\"))\n",
    "                f_meas = float(scope.query(\":MEAS:ITEM? frequency,CHAN2\"))\n",
    "            except ValueError:\n",
    "                Vpp, f_meas = np.nan, np.nan\n",
    "            data.append([freq, f_meas, Vpp])\n",
    "            print(data[-1], end='          \\r')\n",
    "    except KeyboardInterrupt:\n",
    "        pass\n",
    "        \n",
    "    # turn off TOF3000\n",
    "    HV_control.write(f\"A1; S0\");\n",
    "    ramp(np.linspace(offs, 0, 100), do_tqdm=False)\n",
    "    HV_control.write('d0');\n",
    "    HV_control.write('h1');\n",
    "    \n",
    "    # save to HDF\n",
    "    with h5py.File(fname, 'a') as f:\n",
    "        dset = f.create_dataset(run_name, data=data)\n",
    "        dset.attrs['timestamp'] = time.time()\n",
    "        dset.attrs['overwritten'] = str(overwrite)\n",
    "        dset.attrs['polarity'] = polarity\n",
    "        dset.attrs['amp'] = amp\n",
    "        dset.attrs['offs'] = offs\n",
    "        dset.attrs['dt0'] = dt0"
   ]
  },
  {
   "cell_type": "markdown",
   "id": "8e8e247d",
   "metadata": {},
   "source": [
    "### Testing"
   ]
  },
  {
   "cell_type": "code",
   "execution_count": 78,
   "id": "7e198a5c",
   "metadata": {},
   "outputs": [
    {
     "name": "stdout",
     "output_type": "stream",
     "text": [
      "2023-04-14 11:00:10\n",
      "35.1\n"
     ]
    }
   ],
   "source": [
    "print(time.strftime('%Y-%m-%d %H:%M:%S', time.localtime(time.time())))\n",
    "print(DMM.query(\"TEMP?\"))\n",
    "try:\n",
    "    DMM.write(\"ACAL DCV\")\n",
    "except pyvisa.errors.VisaIOError:\n",
    "    pass"
   ]
  },
  {
   "cell_type": "markdown",
   "id": "ed2e8ab2",
   "metadata": {},
   "source": [
    "### Positive polarity"
   ]
  },
  {
   "cell_type": "code",
   "execution_count": 20,
   "id": "edb3a23a",
   "metadata": {},
   "outputs": [],
   "source": [
    "HV_control.write('p1');\n",
    "HV_control.write('r1');\n",
    "HV_control.write('h1');\n",
    "HV_control.write('d0');"
   ]
  },
  {
   "cell_type": "code",
   "execution_count": 19,
   "id": "02cef4cb",
   "metadata": {},
   "outputs": [],
   "source": [
    "HV_control.write('h0');\n",
    "HV_control.write(f'd{int(59055 / 30 * 0)}');"
   ]
  },
  {
   "cell_type": "code",
   "execution_count": 14,
   "id": "81595a3a",
   "metadata": {},
   "outputs": [
    {
     "data": {
      "application/vnd.jupyter.widget-view+json": {
       "model_id": "5db9a2331ca749cdb092acb820a6aabc",
       "version_major": 2,
       "version_minor": 0
      },
      "text/plain": [
       "  0%|          | 0/200 [00:00<?, ?it/s]"
      ]
     },
     "metadata": {},
     "output_type": "display_data"
    },
    {
     "name": "stdout",
     "output_type": "stream",
     "text": [
      "39370 = 20.00 kV     \r"
     ]
    }
   ],
   "source": [
    "ramp(59055 / 30 * np.linspace(0, 20, 200))"
   ]
  },
  {
   "cell_type": "code",
   "execution_count": 17,
   "id": "8b7e26cd",
   "metadata": {},
   "outputs": [
    {
     "data": {
      "application/vnd.jupyter.widget-view+json": {
       "model_id": "3a24368f11604708ab1756d2a9703114",
       "version_major": 2,
       "version_minor": 0
      },
      "text/plain": [
       "  0%|          | 0/100 [00:00<?, ?it/s]"
      ]
     },
     "metadata": {},
     "output_type": "display_data"
    },
    {
     "name": "stdout",
     "output_type": "stream",
     "text": [
      "59055 = 30.00 kV     \r"
     ]
    }
   ],
   "source": [
    "ramp(59055 / 30 * np.linspace(20, 30, 200))"
   ]
  },
  {
   "cell_type": "code",
   "execution_count": 18,
   "id": "dacaf7c7",
   "metadata": {},
   "outputs": [
    {
     "data": {
      "application/vnd.jupyter.widget-view+json": {
       "model_id": "2d31c3c0ed0843f18f675778d3f32204",
       "version_major": 2,
       "version_minor": 0
      },
      "text/plain": [
       "  0%|          | 0/300 [00:00<?, ?it/s]"
      ]
     },
     "metadata": {},
     "output_type": "display_data"
    },
    {
     "name": "stdout",
     "output_type": "stream",
     "text": [
      "33773 = 17.16 kV     \r"
     ]
    },
    {
     "ename": "KeyboardInterrupt",
     "evalue": "",
     "output_type": "error",
     "traceback": [
      "\u001b[1;31m---------------------------------------------------------------------------\u001b[0m",
      "\u001b[1;31mKeyboardInterrupt\u001b[0m                         Traceback (most recent call last)",
      "\u001b[1;32m~\\AppData\\Local\\Temp\\ipykernel_11064\\3345448188.py\u001b[0m in \u001b[0;36m<module>\u001b[1;34m\u001b[0m\n\u001b[1;32m----> 1\u001b[1;33m \u001b[0mramp\u001b[0m\u001b[1;33m(\u001b[0m\u001b[1;36m59055\u001b[0m \u001b[1;33m/\u001b[0m \u001b[1;36m30\u001b[0m \u001b[1;33m*\u001b[0m \u001b[0mnp\u001b[0m\u001b[1;33m.\u001b[0m\u001b[0mlinspace\u001b[0m\u001b[1;33m(\u001b[0m\u001b[1;36m30\u001b[0m\u001b[1;33m,\u001b[0m \u001b[1;36m0\u001b[0m\u001b[1;33m,\u001b[0m \u001b[1;36m300\u001b[0m\u001b[1;33m)\u001b[0m\u001b[1;33m)\u001b[0m\u001b[1;33m\u001b[0m\u001b[1;33m\u001b[0m\u001b[0m\n\u001b[0m",
      "\u001b[1;32m~\\AppData\\Local\\Temp\\ipykernel_11064\\3493714802.py\u001b[0m in \u001b[0;36mramp\u001b[1;34m(V_arr, dt, printing, beep, do_tqdm)\u001b[0m\n\u001b[0;32m     12\u001b[0m             \u001b[0mprint\u001b[0m\u001b[1;33m(\u001b[0m\u001b[1;34mf\"{int(V_set)} = {V_set/59055*30:.2f} kV     \"\u001b[0m\u001b[1;33m,\u001b[0m \u001b[0mend\u001b[0m\u001b[1;33m=\u001b[0m\u001b[1;34m\"\\r\"\u001b[0m\u001b[1;33m)\u001b[0m\u001b[1;33m\u001b[0m\u001b[1;33m\u001b[0m\u001b[0m\n\u001b[0;32m     13\u001b[0m         \u001b[0mHV_control\u001b[0m\u001b[1;33m.\u001b[0m\u001b[0mwrite\u001b[0m\u001b[1;33m(\u001b[0m\u001b[1;34mf'd{int(V_set)}'\u001b[0m\u001b[1;33m)\u001b[0m\u001b[1;33m\u001b[0m\u001b[1;33m\u001b[0m\u001b[0m\n\u001b[1;32m---> 14\u001b[1;33m         \u001b[0mtime\u001b[0m\u001b[1;33m.\u001b[0m\u001b[0msleep\u001b[0m\u001b[1;33m(\u001b[0m\u001b[0mdt\u001b[0m\u001b[1;33m)\u001b[0m\u001b[1;33m\u001b[0m\u001b[1;33m\u001b[0m\u001b[0m\n\u001b[0m",
      "\u001b[1;31mKeyboardInterrupt\u001b[0m: "
     ]
    }
   ],
   "source": [
    "ramp(59055 / 30 * np.linspace(30, 0, 300))"
   ]
  },
  {
   "cell_type": "code",
   "execution_count": 40,
   "id": "f6073384",
   "metadata": {},
   "outputs": [
    {
     "data": {
      "application/vnd.jupyter.widget-view+json": {
       "model_id": "90f495db520148ddbcce4776672eb0ec",
       "version_major": 2,
       "version_minor": 0
      },
      "text/plain": [
       "  0%|          | 0/9999 [00:00<?, ?it/s]"
      ]
     },
     "metadata": {},
     "output_type": "display_data"
    },
    {
     "name": "stdout",
     "output_type": "stream",
     "text": [
      "16.467 kV, 0.000000001 mVV\r"
     ]
    }
   ],
   "source": [
    "try:\n",
    "    for i in tqdm(range(9999)):\n",
    "        DMM_to_HDF(\n",
    "            run_name  = f\"A-{i}\",\n",
    "            t_total   = 60,\n",
    "            NPLC      = 1,\n",
    "            fname     = \"closed_box.hdf\",\n",
    "            overwrite = True,\n",
    "            do_tqdm   = False,\n",
    "            comment   = \"\",\n",
    "        )\n",
    "except KeyboardInterrupt:\n",
    "    pass"
   ]
  },
  {
   "cell_type": "code",
   "execution_count": 130,
   "id": "f140ed8c",
   "metadata": {},
   "outputs": [],
   "source": [
    "HV_control.write('r1');"
   ]
  },
  {
   "cell_type": "code",
   "execution_count": 129,
   "id": "eb7b1edb",
   "metadata": {
    "scrolled": true
   },
   "outputs": [
    {
     "data": {
      "application/vnd.jupyter.widget-view+json": {
       "model_id": "0fe699d3e8f149a4b3bcab24e14333ea",
       "version_major": 2,
       "version_minor": 0
      },
      "text/plain": [
       "  0%|          | 0/100 [00:00<?, ?it/s]"
      ]
     },
     "metadata": {},
     "output_type": "display_data"
    },
    {
     "name": "stdout",
     "output_type": "stream",
     "text": [
      "0 = 0.00 kV          \r"
     ]
    }
   ],
   "source": [
    "ramp(59055 / 30 * np.linspace(20, 0, 100))"
   ]
  },
  {
   "cell_type": "markdown",
   "id": "93507699",
   "metadata": {},
   "source": [
    "### Negative polarity"
   ]
  },
  {
   "cell_type": "code",
   "execution_count": 178,
   "id": "bc8f5477",
   "metadata": {},
   "outputs": [],
   "source": [
    "HV_control.write('p0');\n",
    "HV_control.write('r1');\n",
    "HV_control.write('h1');\n",
    "HV_control.write('d0');"
   ]
  },
  {
   "cell_type": "code",
   "execution_count": 219,
   "id": "6f7770d5",
   "metadata": {},
   "outputs": [],
   "source": [
    "HV_control.write('h0');\n",
    "HV_control.write(f'd{int(59055 / 30 * 28.1201)}');"
   ]
  },
  {
   "cell_type": "code",
   "execution_count": 180,
   "id": "2d8f9b9a",
   "metadata": {},
   "outputs": [
    {
     "data": {
      "application/vnd.jupyter.widget-view+json": {
       "model_id": "89ecad85b797477399012fae6d56b93d",
       "version_major": 2,
       "version_minor": 0
      },
      "text/plain": [
       "  0%|          | 0/1000 [00:00<?, ?it/s]"
      ]
     },
     "metadata": {},
     "output_type": "display_data"
    },
    {
     "name": "stdout",
     "output_type": "stream",
     "text": [
      "39370 = 20.00 kV     \r"
     ]
    }
   ],
   "source": [
    "ramp(59055 / 30 * np.linspace(0, 20, 1000))"
   ]
  },
  {
   "cell_type": "code",
   "execution_count": 204,
   "id": "04ade0f3",
   "metadata": {},
   "outputs": [
    {
     "data": {
      "application/vnd.jupyter.widget-view+json": {
       "model_id": "f5d1f57236cc4da098f82347e2f52b35",
       "version_major": 2,
       "version_minor": 0
      },
      "text/plain": [
       "  0%|          | 0/500 [00:00<?, ?it/s]"
      ]
     },
     "metadata": {},
     "output_type": "display_data"
    },
    {
     "name": "stdout",
     "output_type": "stream",
     "text": [
      "61023 = 31.00 kV     \r"
     ]
    }
   ],
   "source": [
    "ramp(59055 / 30 * np.linspace(25, 31, 500))"
   ]
  },
  {
   "cell_type": "code",
   "execution_count": 205,
   "id": "e2aebbdb",
   "metadata": {},
   "outputs": [
    {
     "data": {
      "application/vnd.jupyter.widget-view+json": {
       "model_id": "8559171176db4ddfbb07493f4a5ce1c4",
       "version_major": 2,
       "version_minor": 0
      },
      "text/plain": [
       "  0%|          | 0/100 [00:00<?, ?it/s]"
      ]
     },
     "metadata": {},
     "output_type": "display_data"
    },
    {
     "name": "stdout",
     "output_type": "stream",
     "text": [
      "49212 = 25.00 kV     \r"
     ]
    }
   ],
   "source": [
    "ramp(59055 / 30 * np.linspace(31, 25, 100))"
   ]
  },
  {
   "cell_type": "code",
   "execution_count": 197,
   "id": "32b52bdc",
   "metadata": {},
   "outputs": [],
   "source": [
    "HV_control.write('r0');"
   ]
  },
  {
   "cell_type": "code",
   "execution_count": 198,
   "id": "e6eed4d5",
   "metadata": {},
   "outputs": [],
   "source": [
    "HV_control.write('r1');"
   ]
  },
  {
   "cell_type": "code",
   "execution_count": 223,
   "id": "6b04fe2f",
   "metadata": {},
   "outputs": [
    {
     "data": {
      "application/vnd.jupyter.widget-view+json": {
       "model_id": "abbddf68f130446c9852d5248ec0482c",
       "version_major": 2,
       "version_minor": 0
      },
      "text/plain": [
       "  0%|          | 0/9999 [00:00<?, ?it/s]"
      ]
     },
     "metadata": {},
     "output_type": "display_data"
    },
    {
     "name": "stdout",
     "output_type": "stream",
     "text": [
      "29.565 kV, -0.299604407 mV\r"
     ]
    }
   ],
   "source": [
    "try:\n",
    "    for i in tqdm(range(9999)):\n",
    "        DMM_to_HDF(\n",
    "            run_name  = f\"Z-{i}\",\n",
    "            t_total   = 60,\n",
    "            NPLC      = 1,\n",
    "            fname     = \"HV_leakage_test.hdf\",\n",
    "            overwrite = True,\n",
    "            do_tqdm   = False,\n",
    "            comment   = \"\",\n",
    "        )\n",
    "except KeyboardInterrupt:\n",
    "    pass"
   ]
  },
  {
   "cell_type": "code",
   "execution_count": 176,
   "id": "b8a36cb5",
   "metadata": {},
   "outputs": [],
   "source": [
    "HV_control.write('r1');"
   ]
  },
  {
   "cell_type": "code",
   "execution_count": 224,
   "id": "054171c1",
   "metadata": {},
   "outputs": [
    {
     "data": {
      "application/vnd.jupyter.widget-view+json": {
       "model_id": "d2a71c512eb2456f809d6b0b3ec18358",
       "version_major": 2,
       "version_minor": 0
      },
      "text/plain": [
       "  0%|          | 0/500 [00:00<?, ?it/s]"
      ]
     },
     "metadata": {},
     "output_type": "display_data"
    },
    {
     "name": "stdout",
     "output_type": "stream",
     "text": [
      "0 = 0.00 kV          \r"
     ]
    }
   ],
   "source": [
    "ramp(59055 / 30 * np.linspace(28.1201, 0, 500))"
   ]
  },
  {
   "cell_type": "markdown",
   "id": "52d68189",
   "metadata": {},
   "source": [
    "### AC measurements"
   ]
  },
  {
   "cell_type": "code",
   "execution_count": 364,
   "id": "451c11df",
   "metadata": {},
   "outputs": [
    {
     "name": "stdout",
     "output_type": "stream",
     "text": [
      "49000 = 24.89 kV     \r"
     ]
    },
    {
     "data": {
      "application/vnd.jupyter.widget-view+json": {
       "model_id": "2e9c582cb838468bbd77cd4254101c24",
       "version_major": 2,
       "version_minor": 0
      },
      "text/plain": [
       "  0%|          | 0/24 [00:00<?, ?it/s]"
      ]
     },
     "metadata": {},
     "output_type": "display_data"
    },
    {
     "name": "stdout",
     "output_type": "stream",
     "text": [
      "0 = 0.00 kV          4]              \r"
     ]
    }
   ],
   "source": [
    "measure_AC(\n",
    "    run_name  = \"B-1\",\n",
    "    fname     = \"HV_AC_test.hdf\",\n",
    "    freq_arr  = [int(x) for x in np.geomspace(500,900,25)][1:],\n",
    "    polarity  = \"positive\",\n",
    "    amp       = 1000,\n",
    "    offs      = 49000,\n",
    "    dt0       = 3600,\n",
    "    overwrite = True,\n",
    ")"
   ]
  }
 ],
 "metadata": {
  "kernelspec": {
   "display_name": "Python 3 (ipykernel)",
   "language": "python",
   "name": "python3"
  },
  "language_info": {
   "codemirror_mode": {
    "name": "ipython",
    "version": 3
   },
   "file_extension": ".py",
   "mimetype": "text/x-python",
   "name": "python",
   "nbconvert_exporter": "python",
   "pygments_lexer": "ipython3",
   "version": "3.9.13"
  }
 },
 "nbformat": 4,
 "nbformat_minor": 5
}
