{
 "cells": [
  {
   "cell_type": "code",
   "execution_count": 1,
   "metadata": {},
   "outputs": [],
   "source": [
    "import numpy as np\n",
    "import matplotlib.pyplot as plt\n",
    "import pyvisa\n",
    "import time\n",
    "from tqdm.notebook import tqdm\n",
    "\n",
    "factor = 2\n",
    "SMALL_SIZE = factor*8\n",
    "MEDIUM_SIZE = factor*10\n",
    "BIGGER_SIZE = factor*12\n",
    "plt.rc('font', size=SMALL_SIZE)          # controls default text sizes\n",
    "plt.rc('axes', titlesize=SMALL_SIZE)     # fontsize of the axes title\n",
    "plt.rc('axes', labelsize=MEDIUM_SIZE)    # fontsize of the x and y labels\n",
    "plt.rc('xtick', labelsize=SMALL_SIZE)    # fontsize of the tick labels\n",
    "plt.rc('ytick', labelsize=SMALL_SIZE)    # fontsize of the tick labels\n",
    "plt.rc('legend', fontsize=SMALL_SIZE)    # legend fontsize\n",
    "plt.rc('figure', titlesize=BIGGER_SIZE)  # fontsize of the figure title"
   ]
  },
  {
   "cell_type": "code",
   "execution_count": 2,
   "metadata": {},
   "outputs": [
    {
     "name": "stdout",
     "output_type": "stream",
     "text": [
      "('USB0::0x1AB1::0x04CE::DS1ZA204619142::INSTR', 'ASRL4::INSTR')\n"
     ]
    }
   ],
   "source": [
    "# list available devices\n",
    "rm = pyvisa.ResourceManager()\n",
    "print(rm.list_resources())"
   ]
  },
  {
   "cell_type": "code",
   "execution_count": 3,
   "metadata": {},
   "outputs": [],
   "source": [
    "# open connections to devices\n",
    "SynthHD = rm.open_resource('ASRL4::INSTR')\n",
    "# arduino = rm.open_resource('ASRL3::INSTR')\n",
    "# power_meter = rm.open_resource('USB0::0x0AAD::0x0161::101074::INSTR')\n",
    "scope = rm.open_resource('USB0::0x1AB1::0x04CE::DS1ZA204619142::INSTR')"
   ]
  },
  {
   "cell_type": "code",
   "execution_count": 5,
   "metadata": {},
   "outputs": [],
   "source": [
    "# initialize devices\n",
    "power_meter.write('*RST')\n",
    "power_meter.write('UNIT:POW DBM')\n",
    "power_meter.write('SENS:FREQ 85e6')\n",
    "power_meter.write('SENS:POW:AVG:FAST ON');"
   ]
  },
  {
   "cell_type": "code",
   "execution_count": 33,
   "metadata": {},
   "outputs": [],
   "source": [
    "def measure_scope(ch_list=[1]):\n",
    "    data = []\n",
    "    for ch in ch_list:\n",
    "#         scope.write(\":MEASure:ITEM VAVG, channel\"+str(ch))\n",
    "        raw_data = scope.query(\":MEASure:ITEM? VAVG, channel\"+str(ch))\n",
    "        try:\n",
    "            float_data = float(raw_data.strip())\n",
    "            if float_data < 1e9:\n",
    "                data.append( float_data )\n",
    "            else:\n",
    "                raise TypeError\n",
    "        except TypeError:\n",
    "            data.append(np.nan)\n",
    "    return data"
   ]
  },
  {
   "cell_type": "code",
   "execution_count": 63,
   "metadata": {},
   "outputs": [
    {
     "data": {
      "application/vnd.jupyter.widget-view+json": {
       "model_id": "edfbf90d97e1415ea5f718f6d484a23b",
       "version_major": 2,
       "version_minor": 0
      },
      "text/plain": [
       "HBox(children=(IntProgress(value=0, max=32), HTML(value='')))"
      ]
     },
     "metadata": {},
     "output_type": "display_data"
    },
    {
     "name": "stdout",
     "output_type": "stream",
     "text": [
      "\n"
     ]
    }
   ],
   "source": [
    "# turn RF on\n",
    "SynthHD.write('C0f85W-46.0E1r1')\n",
    "\n",
    "# measure data\n",
    "data = []\n",
    "for power in tqdm(range(-15,17)):\n",
    "    SynthHD.write(f'W{power}')\n",
    "    time.sleep(0.4)\n",
    "    data.append([power, *measure_scope()])\n",
    "\n",
    "# turn RF off\n",
    "SynthHD.write(f'W-46')\n",
    "SynthHD.write('E0r0')\n",
    "time.sleep(0.25)\n",
    "\n",
    "# convert data\n",
    "data = np.array(data)"
   ]
  },
  {
   "cell_type": "code",
   "execution_count": 65,
   "metadata": {},
   "outputs": [
    {
     "data": {
      "image/png": "[encoded data removed]",
      "text/plain": [
       "<Figure size 432x288 with 1 Axes>"
      ]
     },
     "metadata": {
      "needs_background": "light"
     },
     "output_type": "display_data"
    }
   ],
   "source": [
    "plt.plot(data[:,0], data[:,1], lw=2, color='black')\n",
    "plt.xlabel(\"amplitude setpoint [dBm]\")\n",
    "plt.ylabel(\"PD voltage [V]\")\n",
    "plt.title(\"AOM = ASM-853B45, S.N. 452049\")\n",
    "plt.ylim([0,7])\n",
    "plt.xlim([-15,20])\n",
    "plt.grid()"
   ]
  }
 ],
 "metadata": {
  "kernelspec": {
   "display_name": "Python 3",
   "language": "python",
   "name": "python3"
  },
  "language_info": {
   "codemirror_mode": {
    "name": "ipython",
    "version": 3
   },
   "file_extension": ".py",
   "mimetype": "text/x-python",
   "name": "python",
   "nbconvert_exporter": "python",
   "pygments_lexer": "ipython3",
   "version": "3.7.4"
  }
 },
 "nbformat": 4,
 "nbformat_minor": 2
}
