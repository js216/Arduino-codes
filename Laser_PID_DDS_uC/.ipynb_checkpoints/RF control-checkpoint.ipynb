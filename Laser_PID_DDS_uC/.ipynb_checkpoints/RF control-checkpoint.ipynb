{
 "cells": [
  {
   "cell_type": "code",
   "execution_count": 2,
   "metadata": {},
   "outputs": [],
   "source": [
    "import numpy as np\n",
    "import matplotlib.pyplot as plt\n",
    "import pyvisa\n",
    "import time\n",
    "from tqdm.notebook import tqdm\n",
    "\n",
    "factor = 2\n",
    "SMALL_SIZE = factor*8\n",
    "MEDIUM_SIZE = factor*10\n",
    "BIGGER_SIZE = factor*12\n",
    "plt.rc('font', size=SMALL_SIZE)          # controls default text sizes\n",
    "plt.rc('axes', titlesize=SMALL_SIZE)     # fontsize of the axes title\n",
    "plt.rc('axes', labelsize=MEDIUM_SIZE)    # fontsize of the x and y labels\n",
    "plt.rc('xtick', labelsize=SMALL_SIZE)    # fontsize of the tick labels\n",
    "plt.rc('ytick', labelsize=SMALL_SIZE)    # fontsize of the tick labels\n",
    "plt.rc('legend', fontsize=SMALL_SIZE)    # legend fontsize\n",
    "plt.rc('figure', titlesize=BIGGER_SIZE)  # fontsize of the figure title"
   ]
  },
  {
   "cell_type": "code",
   "execution_count": 3,
   "metadata": {},
   "outputs": [
    {
     "name": "stdout",
     "output_type": "stream",
     "text": [
      "('USB0::0x0AAD::0x0161::101074::INSTR', 'ASRL4::INSTR')\n"
     ]
    }
   ],
   "source": [
    "# list available devices\n",
    "rm = pyvisa.ResourceManager()\n",
    "print(rm.list_resources())"
   ]
  },
  {
   "cell_type": "code",
   "execution_count": 4,
   "metadata": {},
   "outputs": [],
   "source": [
    "# open connections to devices\n",
    "SynthHD = rm.open_resource('ASRL4::INSTR')\n",
    "# arduino = rm.open_resource('ASRL3::INSTR')\n",
    "power_meter = rm.open_resource('USB0::0x0AAD::0x0161::101074::INSTR')"
   ]
  },
  {
   "cell_type": "code",
   "execution_count": 5,
   "metadata": {},
   "outputs": [],
   "source": [
    "# initialize devices\n",
    "power_meter.write('*RST')\n",
    "power_meter.write('UNIT:POW DBM')\n",
    "power_meter.write('SENS:FREQ 85e6')\n",
    "power_meter.write('SENS:POW:AVG:FAST ON');"
   ]
  },
  {
   "cell_type": "code",
   "execution_count": 35,
   "metadata": {},
   "outputs": [
    {
     "data": {
      "application/vnd.jupyter.widget-view+json": {
       "model_id": "9471b6c688db450e8a382998fee795cc",
       "version_major": 2,
       "version_minor": 0
      },
      "text/plain": [
       "HBox(children=(IntProgress(value=0, max=34), HTML(value='')))"
      ]
     },
     "metadata": {},
     "output_type": "display_data"
    },
    {
     "name": "stdout",
     "output_type": "stream",
     "text": [
      "\n",
      "-47.85989\n"
     ]
    }
   ],
   "source": [
    "# turn RF on\n",
    "SynthHD.write('C0f85W-46.0E1r1')\n",
    "\n",
    "# measure data\n",
    "data = []\n",
    "for power in tqdm(range(-46,-12)):\n",
    "    SynthHD.write(f'W{power}')\n",
    "    time.sleep(0.25)\n",
    "    power_meter.write('INIT')\n",
    "    data.append([power, float(power_meter.query('FETC?'))])\n",
    "\n",
    "# turn RF off\n",
    "SynthHD.write(f'W-46')\n",
    "SynthHD.write('E0r0')\n",
    "time.sleep(0.25)\n",
    "power_meter.write('INIT')\n",
    "print(float(power_meter.query('FETC?')))\n",
    "\n",
    "# convert data\n",
    "data = np.array(data)"
   ]
  },
  {
   "cell_type": "code",
   "execution_count": 38,
   "metadata": {},
   "outputs": [
    {
     "data": {
      "image/png": "[encoded data removed]",
      "text/plain": [
       "<Figure size 432x288 with 1 Axes>"
      ]
     },
     "metadata": {
      "needs_background": "light"
     },
     "output_type": "display_data"
    }
   ],
   "source": [
    "plt.plot(data[:,0], data[:,1]+30)\n",
    "plt.xlabel(\"amplitude setpoint [dBm]\")\n",
    "plt.ylabel(\"measured power [dBm]\")\n",
    "plt.title(\"SynthHD Pro and ZHL-5W-1+\")\n",
    "plt.ylim([0,40])\n",
    "plt.grid()"
   ]
  },
  {
   "cell_type": "code",
   "execution_count": 43,
   "metadata": {},
   "outputs": [
    {
     "name": "stdout",
     "output_type": "stream",
     "text": [
      "-46.0\t-28.7\n",
      "-45.0\t-27.8\n",
      "-44.0\t-26.7\n",
      "-43.0\t-25.5\n",
      "-42.0\t-24.4\n",
      "-41.0\t-23.3\n",
      "-40.0\t-22.2\n",
      "-39.0\t-21.2\n",
      "-38.0\t-20.1\n",
      "-37.0\t-19.1\n",
      "-36.0\t-17.9\n",
      "-35.0\t-16.9\n",
      "-34.0\t-15.8\n",
      "-33.0\t-14.8\n",
      "-32.0\t-13.8\n",
      "-31.0\t-12.9\n",
      "-30.0\t-11.9\n",
      "-29.0\t-11.0\n",
      "-28.0\t-10.1\n",
      "-27.0\t-9.1\n",
      "-26.0\t-8.2\n",
      "-25.0\t-7.2\n",
      "-24.0\t-6.2\n",
      "-23.0\t-5.2\n",
      "-22.0\t-4.2\n",
      "-21.0\t-3.2\n",
      "-20.0\t-2.3\n",
      "-19.0\t-1.2\n",
      "-18.0\t-0.2\n",
      "-17.0\t0.8\n",
      "-16.0\t1.7\n",
      "-15.0\t2.6\n",
      "-14.0\t3.6\n",
      "-13.0\t4.6\n"
     ]
    }
   ],
   "source": [
    "for x,y in data:\n",
    "    print(f'{x}\\t{round(y,1)}')"
   ]
  }
 ],
 "metadata": {
  "kernelspec": {
   "display_name": "Python 3",
   "language": "python",
   "name": "python3"
  },
  "language_info": {
   "codemirror_mode": {
    "name": "ipython",
    "version": 3
   },
   "file_extension": ".py",
   "mimetype": "text/x-python",
   "name": "python",
   "nbconvert_exporter": "python",
   "pygments_lexer": "ipython3",
   "version": "3.7.4"
  }
 },
 "nbformat": 4,
 "nbformat_minor": 2
}
