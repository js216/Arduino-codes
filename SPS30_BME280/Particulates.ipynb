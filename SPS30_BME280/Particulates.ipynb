{
 "cells": [
  {
   "cell_type": "code",
   "execution_count": 1,
   "id": "aa2c7bc0",
   "metadata": {},
   "outputs": [],
   "source": [
    "import numpy as np\n",
    "import pyvisa\n",
    "import time"
   ]
  },
  {
   "cell_type": "markdown",
   "id": "b731471d",
   "metadata": {},
   "source": [
    "### Data collection"
   ]
  },
  {
   "cell_type": "code",
   "execution_count": 2,
   "id": "8cace74f",
   "metadata": {},
   "outputs": [
    {
     "data": {
      "text/plain": [
       "('ASRL4::INSTR', 'ASRL14::INSTR')"
      ]
     },
     "execution_count": 2,
     "metadata": {},
     "output_type": "execute_result"
    }
   ],
   "source": [
    "rm = pyvisa.ResourceManager()\n",
    "rm.list_resources()"
   ]
  },
  {
   "cell_type": "code",
   "execution_count": null,
   "id": "f3973f71",
   "metadata": {},
   "outputs": [
    {
     "name": "stdout",
     "output_type": "stream",
     "text": [
      "Wed Jun 28 19:18:45 2023 : 46.05,54.65,59.46,60.42,310.37,360.09,367.15,368.52,368.77,26.80,988.00,32.59\r"
     ]
    }
   ],
   "source": [
    "with rm.open_resource('ASRL14::INSTR') as SPS30:\n",
    "    time.sleep(5)\n",
    "    SPS30.clear()\n",
    "    try:\n",
    "        while True:\n",
    "            with open('SPS30.log', 'a') as f:\n",
    "                resp = SPS30.query('r').strip()\n",
    "                print(time.ctime(time.time()), ':', resp, end='\\r')\n",
    "                f.write(str(int(time.time())) + \",\" + resp + '\\n')\n",
    "                time.sleep(1)\n",
    "    except KeyboardInterrupt:\n",
    "        pass"
   ]
  }
 ],
 "metadata": {
  "kernelspec": {
   "display_name": "Python 3 (ipykernel)",
   "language": "python",
   "name": "python3"
  },
  "language_info": {
   "codemirror_mode": {
    "name": "ipython",
    "version": 3
   },
   "file_extension": ".py",
   "mimetype": "text/x-python",
   "name": "python",
   "nbconvert_exporter": "python",
   "pygments_lexer": "ipython3",
   "version": "3.9.13"
  }
 },
 "nbformat": 4,
 "nbformat_minor": 5
}
