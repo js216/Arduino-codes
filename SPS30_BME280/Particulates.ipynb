{
 "cells": [
  {
   "cell_type": "code",
   "execution_count": 27,
   "id": "aa2c7bc0",
   "metadata": {},
   "outputs": [],
   "source": [
    "import numpy as np\n",
    "import pyvisa\n",
    "import time"
   ]
  },
  {
   "cell_type": "markdown",
   "id": "6ee281f9",
   "metadata": {},
   "source": [
    "### Data collection"
   ]
  },
  {
   "cell_type": "code",
   "execution_count": 4,
   "id": "37d48880",
   "metadata": {},
   "outputs": [
    {
     "data": {
      "text/plain": [
       "('ASRL4::INSTR', 'ASRL14::INSTR')"
      ]
     },
     "execution_count": 4,
     "metadata": {},
     "output_type": "execute_result"
    }
   ],
   "source": [
    "rm = pyvisa.ResourceManager()\n",
    "rm.list_resources()"
   ]
  },
  {
   "cell_type": "code",
   "execution_count": null,
   "id": "c8c29a49",
   "metadata": {},
   "outputs": [
    {
     "name": "stdout",
     "output_type": "stream",
     "text": [
      "Wed Jun 28 12:37:48 2023 : 69.44,84.54,93.52,95.32,462.90,540.56,553.47,555.97,556.42,25.37,990.11,36.8648\r"
     ]
    }
   ],
   "source": [
    "with rm.open_resource('ASRL14::INSTR') as SPS30:\n",
    "    time.sleep(2)\n",
    "    try:\n",
    "        while True:\n",
    "            with open('SPS30.log', 'a') as f:\n",
    "                resp = SPS30.query('r').strip()\n",
    "                print(time.ctime(time.time()), ':', resp, end='\\r')\n",
    "                f.write(str(int(time.time())) + \",\" + resp + '\\n')\n",
    "                time.sleep(1)\n",
    "    except KeyboardInterrupt:\n",
    "        pass"
   ]
  }
 ],
 "metadata": {
  "kernelspec": {
   "display_name": "Python 3 (ipykernel)",
   "language": "python",
   "name": "python3"
  },
  "language_info": {
   "codemirror_mode": {
    "name": "ipython",
    "version": 3
   },
   "file_extension": ".py",
   "mimetype": "text/x-python",
   "name": "python",
   "nbconvert_exporter": "python",
   "pygments_lexer": "ipython3",
   "version": "3.9.13"
  }
 },
 "nbformat": 4,
 "nbformat_minor": 5
}
