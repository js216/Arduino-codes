{
 "cells": [
  {
   "cell_type": "code",
   "execution_count": 1,
   "id": "aa2c7bc0",
   "metadata": {},
   "outputs": [],
   "source": [
    "import numpy as np\n",
    "import pyvisa\n",
    "import time"
   ]
  },
  {
   "cell_type": "markdown",
   "id": "74f1ff04",
   "metadata": {},
   "source": [
    "### Data collection"
   ]
  },
  {
   "cell_type": "code",
   "execution_count": 2,
   "id": "a07d0d04",
   "metadata": {},
   "outputs": [
    {
     "data": {
      "text/plain": [
       "('ASRL4::INSTR', 'ASRL14::INSTR')"
      ]
     },
     "execution_count": 2,
     "metadata": {},
     "output_type": "execute_result"
    }
   ],
   "source": [
    "rm = pyvisa.ResourceManager()\n",
    "rm.list_resources()"
   ]
  },
  {
   "cell_type": "code",
   "execution_count": null,
   "id": "604110d2",
   "metadata": {},
   "outputs": [
    {
     "name": "stdout",
     "output_type": "stream",
     "text": [
      "Wed Jun 28 12:45:14 2023 : 69.15,83.93,92.67,94.42,461.54,538.56,551.15,553.58,554.02,25.43,989.96,36.75\r"
     ]
    }
   ],
   "source": [
    "with rm.open_resource('ASRL14::INSTR') as SPS30:\n",
    "    time.sleep(5)\n",
    "    SPS30.clear()\n",
    "    try:\n",
    "        while True:\n",
    "            with open('SPS30.log', 'a') as f:\n",
    "                resp = SPS30.query('r').strip()\n",
    "                print(time.ctime(time.time()), ':', resp, end='\\r')\n",
    "                f.write(str(int(time.time())) + \",\" + resp + '\\n')\n",
    "                time.sleep(1.5)\n",
    "    except KeyboardInterrupt:\n",
    "        pass"
   ]
  }
 ],
 "metadata": {
  "kernelspec": {
   "display_name": "Python 3 (ipykernel)",
   "language": "python",
   "name": "python3"
  },
  "language_info": {
   "codemirror_mode": {
    "name": "ipython",
    "version": 3
   },
   "file_extension": ".py",
   "mimetype": "text/x-python",
   "name": "python",
   "nbconvert_exporter": "python",
   "pygments_lexer": "ipython3",
   "version": "3.9.13"
  }
 },
 "nbformat": 4,
 "nbformat_minor": 5
}
