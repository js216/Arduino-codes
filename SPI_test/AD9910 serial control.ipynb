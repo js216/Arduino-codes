{
 "cells": [
  {
   "cell_type": "code",
   "execution_count": 1,
   "metadata": {},
   "outputs": [],
   "source": [
    "import pyvisa"
   ]
  },
  {
   "cell_type": "code",
   "execution_count": 2,
   "metadata": {},
   "outputs": [
    {
     "data": {
      "text/plain": [
       "('ASRL8::INSTR', 'ASRL13::INSTR')"
      ]
     },
     "execution_count": 2,
     "metadata": {},
     "output_type": "execute_result"
    }
   ],
   "source": [
    "rm = pyvisa.ResourceManager()\n",
    "rm.list_resources()"
   ]
  },
  {
   "cell_type": "code",
   "execution_count": 94,
   "metadata": {},
   "outputs": [],
   "source": [
    "a = rm.open_resource('ASRL13::INSTR')"
   ]
  },
  {
   "cell_type": "code",
   "execution_count": 95,
   "metadata": {},
   "outputs": [],
   "source": [
    "def int_to_bytes(i):\n",
    "    return (i).to_bytes(1, byteorder='big')"
   ]
  },
  {
   "cell_type": "code",
   "execution_count": 96,
   "metadata": {},
   "outputs": [],
   "source": [
    "def read_registers(arduino):\n",
    "    print(arduino.query('r'), end='')\n",
    "    for i in range(23):\n",
    "        print(arduino.read(), end='')"
   ]
  },
  {
   "cell_type": "code",
   "execution_count": 97,
   "metadata": {},
   "outputs": [
    {
     "name": "stdout",
     "output_type": "stream",
     "text": [
      "Reading register contents:\n",
      "   0: 00000000,00000000,00000000,00000000,\n",
      "   1: 00000000,01000000,00001000,00100000,\n",
      "   2: 00011111,00111111,01000000,00000000,\n",
      "   3: 00000000,00000000,01111111,01111111,\n",
      "   4: 11111111,11111111,11111111,11111111,\n",
      "   5: 01101001,00100000,01000000,10000001,01000100,01100000,\n",
      "   6: 00000011,00100000,00000001,10001001,00000000,00100000,\n",
      "   7: 00000000,00000000,00000000,00000000,\n",
      "   8: 00000000,00000000,\n",
      "   9: 00000000,00000000,00000000,00000000,\n",
      "   A: 00000000,00000000,00000000,00000000,\n",
      "   B: 00000000,10010001,00000100,00011000,00011001,00100010,00000010,11000000,\n",
      "   C: 01100100,10000000,10010000,00000001,00000011,00000000,10000010,10000000,\n",
      "   D: 01000000,11010000,00000000,00001000,\n",
      "   E: 00000000,00000000,00000000,00000000,00000000,00000000,00000000,00000000,\n",
      "   F: 00000000,00000000,00000000,00000000,00000000,00000000,00000000,00000000,\n",
      "  10: 00000000,00000000,00000000,00000000,00000000,00000000,00000000,00000000,\n",
      "  11: 00000000,00000000,00000000,00000000,00000000,00000000,00000000,00000000,\n",
      "  12: 00000000,00000000,00000000,00000000,00000000,00000000,00000000,00000000,\n",
      "  13: 00000000,00000000,00000000,00000000,00000000,00000000,00000000,00000000,\n",
      "  14: 00000000,00000000,00000000,00000000,00000000,00000000,00000000,00000000,\n",
      "  15: 00000000,00000000,00000000,00000000,00000000,00000000,00000000,00000000,\n",
      "  16: 00111010,11011000,01010010,11000011,\n"
     ]
    }
   ],
   "source": [
    "read_registers(a)"
   ]
  },
  {
   "cell_type": "code",
   "execution_count": 75,
   "metadata": {},
   "outputs": [],
   "source": [
    "def write_register(arduino, reg, data_list):\n",
    "    # send the write command\n",
    "    arduino.write_raw(\n",
    "        b\"w\" \\\n",
    "          + bytes(bytearray([reg])) \\\n",
    "          + bytes(bytearray(data_list))\n",
    "      )\n",
    "    \n",
    "    # print Arduino's return text\n",
    "    print(arduino.read(), end='')\n",
    "    print(arduino.read(), end='')"
   ]
  },
  {
   "cell_type": "code",
   "execution_count": 24,
   "metadata": {},
   "outputs": [],
   "source": [
    "def reset(arduino):\n",
    "    print(arduino.query('0'))"
   ]
  },
  {
   "cell_type": "code",
   "execution_count": 124,
   "metadata": {},
   "outputs": [
    {
     "name": "stdout",
     "output_type": "stream",
     "text": [
      "Device reset complete.\n",
      "\n"
     ]
    }
   ],
   "source": [
    "reset(a)"
   ]
  },
  {
   "cell_type": "code",
   "execution_count": 125,
   "metadata": {},
   "outputs": [
    {
     "name": "stdout",
     "output_type": "stream",
     "text": [
      "Writing to register 0:   \n",
      "  00000000,00000000,00000000,00000000,\n",
      "Writing to register 1:   \n",
      "  00000000,01000000,00001000,00100000,\n",
      "Writing to register 2:   \n",
      "  00011111,00111111,11000000,00000000,\n",
      "Writing to register 3:   \n",
      "  00000000,00000000,01111111,01111111,\n",
      "Writing to register 4:   \n",
      "  11111111,11111111,11111111,11111111,\n",
      "Writing to register 5:   \n",
      "  11101001,00100000,01100100,10001001,11000100,11100000,\n",
      "Writing to register 6:   \n",
      "  10000111,00101100,00000101,10101001,10000000,00101001,\n",
      "Writing to register 7:   \n",
      "  00000000,00000000,00000000,00000000,\n",
      "Writing to register 8:   \n",
      "  00000000,00000000,\n",
      "Writing to register 9:   \n",
      "  00000000,00000000,00000000,00000000,\n",
      "Writing to register A:   \n",
      "  00000000,00000000,00000000,00000000,\n",
      "Writing to register B:   \n",
      "  10100001,10011001,11000100,00011010,00011001,00101110,00000011,11000100,\n",
      "Writing to register C:   \n",
      "  11000100,10101001,10110000,10000101,00000011,11000000,10000011,10110000,\n",
      "Writing to register D:   \n",
      "  01001110,11010000,00000000,00011100,\n",
      "Writing to register E:   \n",
      "  00001000,10110101,00000000,00000000,00010101,11000010,10001111,01011100,\n",
      "Writing to register F:   \n",
      "  00001000,10110101,00000000,00000000,00010101,11000010,10001111,01011100,\n",
      "Writing to register 10:   \n",
      "  00001000,10110101,00000000,00000000,00010101,11000010,10001111,01011100,\n",
      "Writing to register 11:   \n",
      "  00001000,10110101,00000000,00000000,00010101,11000010,10001111,01011100,\n",
      "Writing to register 12:   \n",
      "  00001000,10110101,00000000,00000000,00010101,11000010,10001111,01011100,\n",
      "Writing to register 13:   \n",
      "  00001000,10110101,00000000,00000000,00010101,11000010,10001111,01011100,\n",
      "Writing to register 14:   \n",
      "  00001000,10110101,00000000,00000000,00010101,11000010,10001111,01011100,\n",
      "Writing to register 15:   \n",
      "  00001000,10110101,00000000,00000000,00010101,11000010,10001111,01011100,\n",
      "Writing to register 16:   \n",
      "  00111000,11010000,01010011,11000111,\n"
     ]
    }
   ],
   "source": [
    "write_register(a, 0x0, [0b00000000,0b00000000,0b00000000,0b00000000,])\n",
    "write_register(a, 0x1, [0b00000000,0b01000000,0b00001000,0b00100000,])\n",
    "write_register(a, 0x2, [0b00011111,0b00111111,0b11000000,0b00000000,])\n",
    "write_register(a, 0x3, [0b00000000,0b00000000,0b01111111,0b01111111,])\n",
    "write_register(a, 0x4, [0b11111111,0b11111111,0b11111111,0b11111111,])\n",
    "write_register(a, 0x5, [0b11101001,0b00100000,0b01100100,0b10001001,0b11000100,0b11100000,])\n",
    "write_register(a, 0x6, [0b10000111,0b00101100,0b00000101,0b10101001,0b10000000,0b00101001,])\n",
    "write_register(a, 0x7, [0b00000000,0b00000000,0b00000000,0b00000000,])\n",
    "write_register(a, 0x8, [0b00000000,0b00000000,])\n",
    "write_register(a, 0x9, [0b00000000,0b00000000,0b00000000,0b00000000,])\n",
    "write_register(a, 0xA, [0b00000000,0b00000000,0b00000000,0b00000000,])\n",
    "write_register(a, 0xB, [0b10100001,0b10011001,0b11000100,0b00011010,0b00011001,0b00101110,0b00000011,0b11000100,])\n",
    "write_register(a, 0xC, [0b11000100,0b10101001,0b10110000,0b10000101,0b00000011,0b11000000,0b10000011,0b10110000,])\n",
    "write_register(a, 0xD, [0b01001110,0b11010000,0b00000000,0b00011100,])\n",
    "write_register(a, 0xE, [0b00001000,0b10110101,0b00000000,0b00000000,0b00010101,0b11000010,0b10001111,0b01011100,])\n",
    "write_register(a, 0xF, [0b00001000,0b10110101,0b00000000,0b00000000,0b00010101,0b11000010,0b10001111,0b01011100,])\n",
    "write_register(a, 0x10, [0b00001000,0b10110101,0b00000000,0b00000000,0b00010101,0b11000010,0b10001111,0b01011100,])\n",
    "write_register(a, 0x11, [0b00001000,0b10110101,0b00000000,0b00000000,0b00010101,0b11000010,0b10001111,0b01011100,])\n",
    "write_register(a, 0x12, [0b00001000,0b10110101,0b00000000,0b00000000,0b00010101,0b11000010,0b10001111,0b01011100,])\n",
    "write_register(a, 0x13, [0b00001000,0b10110101,0b00000000,0b00000000,0b00010101,0b11000010,0b10001111,0b01011100,])\n",
    "write_register(a, 0x14, [0b00001000,0b10110101,0b00000000,0b00000000,0b00010101,0b11000010,0b10001111,0b01011100,])\n",
    "write_register(a, 0x15, [0b00001000,0b10110101,0b00000000,0b00000000,0b00010101,0b11000010,0b10001111,0b01011100,])\n",
    "write_register(a, 0x16, [0b00111000,0b11010000,0b01010011,0b11000111,])"
   ]
  },
  {
   "cell_type": "code",
   "execution_count": 93,
   "metadata": {},
   "outputs": [],
   "source": [
    "a.close()"
   ]
  },
  {
   "cell_type": "code",
   "execution_count": null,
   "metadata": {},
   "outputs": [],
   "source": []
  }
 ],
 "metadata": {
  "kernelspec": {
   "display_name": "Python 3",
   "language": "python",
   "name": "python3"
  },
  "language_info": {
   "codemirror_mode": {
    "name": "ipython",
    "version": 3
   },
   "file_extension": ".py",
   "mimetype": "text/x-python",
   "name": "python",
   "nbconvert_exporter": "python",
   "pygments_lexer": "ipython3",
   "version": "3.6.4"
  }
 },
 "nbformat": 4,
 "nbformat_minor": 2
}
