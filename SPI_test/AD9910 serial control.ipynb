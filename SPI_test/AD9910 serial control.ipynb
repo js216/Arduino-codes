{
 "cells": [
  {
   "cell_type": "markdown",
   "metadata": {},
   "source": [
    "# Serial control of AD9910 through Arduino\n",
    "\n",
    "### Hardware setup\n",
    "\n",
    "In order to control AD9910 on its official [evaluation board](https://www.analog.com/en/design-center/evaluation-hardware-and-software/evaluation-boards-kits/eval-ad9910.html) through a serial (3-wire SPI) connection, set the board as follows:\n",
    "\n",
    "1. Disable jumpers `W1`, `W2`, and `W4`. Remove jumpers `W3`, `W5`, `W6`.\n",
    "2. Connect the following pins to the Arduino's `reset_pin` (see below), and also to ground via a 10k pull-down resistor: in header `U9`, pins `RESET` and `EXT_PWR_DWN`; in `U5`, pin `IO_RESET`.\n",
    "3. Connect wires for the SPI interface: in header `U5`, pins `SDIO`, `SCLK`, and `CSB` should respectively be connected to the `MISO`, `SCK`, and `CS_pin`. In addition, pin `IO_update` in header `P1` should be connected to the Arduino's `IO_update_pin`.\n",
    "\n",
    "Note that the above-mentioned pins have the following default values in [`SPI_test.ino`](https://github.com/js216/Arduino-codes/blob/master/SPI_test/SPI_test.ino), as appropriate for a [Teensy 3.6](https://www.pjrc.com/teensy/td_libs_SPI.html) device:\n",
    "\n",
    "    // SCK = Clock = pin 13\n",
    "    // MOSI = Data Output = pin 11\n",
    "    // MISO = Data Input = pin 12\n",
    "    const int CS_pin = 16;\n",
    "    const int IO_update_pin = 24;\n",
    "    const int reset_pin = 2;\n",
    "    \n",
    "Since an Arduino is used as a serial-to-SPI link to interface between the computer and the AD9910, it has to be programmed appropriately. See [`SPI_test.ino`](https://github.com/js216/Arduino-codes/blob/master/SPI_test/SPI_test.ino) for example code that is assumed in the following. Other Arduino-like boards might necessitate other pin assignments; see the [official website](https://www.arduino.cc/en/reference/SPI) for details, and adjust the provided [Arduino code](https://github.com/js216/Arduino-codes/blob/master/SPI_test/SPI_test.ino) as appropriate.\n",
    "    \n",
    "### Software implementation\n",
    "\n",
    "Import packages:"
   ]
  },
  {
   "cell_type": "code",
   "execution_count": 1,
   "metadata": {},
   "outputs": [],
   "source": [
    "import pyvisa"
   ]
  },
  {
   "cell_type": "markdown",
   "metadata": {},
   "source": [
    "Connect to the Arduino:"
   ]
  },
  {
   "cell_type": "code",
   "execution_count": 2,
   "metadata": {},
   "outputs": [],
   "source": [
    "rm = pyvisa.ResourceManager()\n",
    "a = rm.open_resource('ASRL13::INSTR')"
   ]
  },
  {
   "cell_type": "markdown",
   "metadata": {},
   "source": [
    "Write and test the function that prints the contents of all 23 registers:"
   ]
  },
  {
   "cell_type": "code",
   "execution_count": 3,
   "metadata": {},
   "outputs": [
    {
     "name": "stdout",
     "output_type": "stream",
     "text": [
      "Reading register contents:\n",
      "   0: 00000000,00000000,00000000,00000000,\n",
      "   1: 00000000,01000000,00001000,00100000,\n",
      "   2: 00011111,00111111,01000000,00000000,\n",
      "   3: 00000000,00000000,01111111,01111111,\n",
      "   4: 11111111,11111111,11111111,11111111,\n",
      "   5: 11101001,00100000,01100100,10001001,11000101,11100000,\n",
      "   6: 10000111,00101000,00000101,10101001,10000000,00101000,\n",
      "   7: 00000000,00000000,00000000,00000000,\n",
      "   8: 00000000,00000000,\n",
      "   9: 00000000,00000000,00000000,00000000,\n",
      "   A: 00000000,00000000,00000000,00000000,\n",
      "   B: 10100000,10011001,11100100,00011010,00011001,00101010,00000011,11000100,\n",
      "   C: 11000100,10100000,10110001,10000101,00000011,11000000,10000011,10110000,\n",
      "   D: 01001110,11010001,00000000,00011100,\n",
      "   E: 00000000,00000000,00000000,00000000,00000000,00000000,00000000,00000000,\n",
      "   F: 00000000,00000000,00000000,00000000,00000000,00000000,00000000,00000000,\n",
      "  10: 00000000,00000000,00000000,00000000,00000000,00000000,00000000,00000000,\n",
      "  11: 00000000,00000000,00000000,00000000,00000000,00000000,00000000,00000000,\n",
      "  12: 00000000,00000000,00000000,00000000,00000000,00000000,00000000,00000000,\n",
      "  13: 00000000,00000000,00000000,00000000,00000000,00000000,00000000,00000000,\n",
      "  14: 00000000,00000000,00000000,00000000,00000000,00000000,00000000,00000000,\n",
      "  15: 00000000,00000000,00000000,00000000,00000000,00000000,00000000,00000000,\n",
      "  16: 00111000,11010000,01010010,11000111,\n"
     ]
    }
   ],
   "source": [
    "def read_registers(arduino):\n",
    "    print(arduino.query('r'), end='')\n",
    "    for i in range(23):\n",
    "        print(arduino.read(), end='')\n",
    "        \n",
    "read_registers(a)"
   ]
  },
  {
   "cell_type": "markdown",
   "metadata": {},
   "source": [
    "Write functions to reset the AD9910, and to write register contents:"
   ]
  },
  {
   "cell_type": "code",
   "execution_count": 4,
   "metadata": {},
   "outputs": [],
   "source": [
    "def reset(arduino):\n",
    "    print(arduino.query('0'))\n",
    "    \n",
    "def write_register(arduino, reg, data_list, printing=False):\n",
    "    # send the write command\n",
    "    arduino.write_raw(\n",
    "        b\"w\" \\\n",
    "          + bytes(bytearray([reg])) \\\n",
    "          + bytes(bytearray(data_list))\n",
    "      )\n",
    "    \n",
    "    # print Arduino's return text\n",
    "    if printing:\n",
    "        print(arduino.read(), end='')\n",
    "        print(arduino.read(), end='')"
   ]
  },
  {
   "cell_type": "markdown",
   "metadata": {},
   "source": [
    "The following writes the register values that cause the AD9910 to output an 85 MHz sine wave for a 1 GHz clock input.\n",
    "\n",
    "Note in particular the MSB of the second least significant byte in register 0x02, \"REFCLK input divider bypass\", which, when set to 1, disables the internal clock divider.\n",
    "\n",
    "The amplitude, phase, and frequency settings of profile 0 are written in the 0x0E register."
   ]
  },
  {
   "cell_type": "code",
   "execution_count": 5,
   "metadata": {},
   "outputs": [],
   "source": [
    "write_register(a, 0x00, [0b00000000,0b00000000,0b00000000,0b00000000,])\n",
    "write_register(a, 0x01, [0b00000000,0b01000000,0b00001000,0b00100000,])\n",
    "write_register(a, 0x02, [0b00011111,0b00111111,0b11000000,0b00000000,])\n",
    "write_register(a, 0x03, [0b00000000,0b00000000,0b01111111,0b01111111,])\n",
    "write_register(a, 0x04, [0b11111111,0b11111111,0b11111111,0b11111111,])\n",
    "write_register(a, 0x05, [0b11101001,0b00100000,0b01100100,0b10001001,0b11000100,0b11100000,])\n",
    "write_register(a, 0x06, [0b10000111,0b00101100,0b00000101,0b10101001,0b10000000,0b00101001,])\n",
    "write_register(a, 0x07, [0b00000000,0b00000000,0b00000000,0b00000000,])\n",
    "write_register(a, 0x08, [0b00000000,0b00000000,])\n",
    "write_register(a, 0x09, [0b00000000,0b00000000,0b00000000,0b00000000,])\n",
    "write_register(a, 0x0A, [0b00000000,0b00000000,0b00000000,0b00000000,])\n",
    "write_register(a, 0x0B, [0b10100001,0b10011001,0b11000100,0b00011010,0b00011001,0b00101110,0b00000011,0b11000100,])\n",
    "write_register(a, 0x0C, [0b11000100,0b10101001,0b10110000,0b10000101,0b00000011,0b11000000,0b10000011,0b10110000,])\n",
    "write_register(a, 0x0D, [0b01001110,0b11010000,0b00000000,0b00011100,])\n",
    "write_register(a, 0x0E, [0b00001000,0b10110101,0b00000000,0b00000000,0b00010101,0b11000010,0b10001111,0b01011100,])\n",
    "write_register(a, 0x0F, [0b00001000,0b10110101,0b00000000,0b00000000,0b00010101,0b11000010,0b10001111,0b01011100,])\n",
    "write_register(a, 0x10, [0b00001000,0b10110101,0b00000000,0b00000000,0b00010101,0b11000010,0b10001111,0b01011100,])\n",
    "write_register(a, 0x11, [0b00001000,0b10110101,0b00000000,0b00000000,0b00010101,0b11000010,0b10001111,0b01011100,])\n",
    "write_register(a, 0x12, [0b00001000,0b10110101,0b00000000,0b00000000,0b00010101,0b11000010,0b10001111,0b01011100,])\n",
    "write_register(a, 0x13, [0b00001000,0b10110101,0b00000000,0b00000000,0b00010101,0b11000010,0b10001111,0b01011100,])\n",
    "write_register(a, 0x14, [0b00001000,0b10110101,0b00000000,0b00000000,0b00010101,0b11000010,0b10001111,0b01011100,])\n",
    "write_register(a, 0x15, [0b00001000,0b10110101,0b00000000,0b00000000,0b00010101,0b11000010,0b10001111,0b01011100,])\n",
    "write_register(a, 0x16, [0b00111000,0b11010000,0b01010011,0b11000111,])"
   ]
  },
  {
   "cell_type": "markdown",
   "metadata": {},
   "source": [
    "Close connection to the Arduino:"
   ]
  },
  {
   "cell_type": "code",
   "execution_count": 6,
   "metadata": {},
   "outputs": [],
   "source": [
    "a.close()"
   ]
  },
  {
   "cell_type": "markdown",
   "metadata": {},
   "source": [
    "### Human-friendly wrapper functions\n",
    "\n",
    "In the following, I provide wrappers for the most commonly used functions of the AD9910."
   ]
  }
 ],
 "metadata": {
  "kernelspec": {
   "display_name": "Python 3",
   "language": "python",
   "name": "python3"
  },
  "language_info": {
   "codemirror_mode": {
    "name": "ipython",
    "version": 3
   },
   "file_extension": ".py",
   "mimetype": "text/x-python",
   "name": "python",
   "nbconvert_exporter": "python",
   "pygments_lexer": "ipython3",
   "version": "3.6.4"
  }
 },
 "nbformat": 4,
 "nbformat_minor": 2
}
