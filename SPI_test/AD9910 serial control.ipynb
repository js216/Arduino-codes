{
 "cells": [
  {
   "cell_type": "code",
   "execution_count": 1,
   "metadata": {},
   "outputs": [],
   "source": [
    "import pyvisa"
   ]
  },
  {
   "cell_type": "code",
   "execution_count": 2,
   "metadata": {},
   "outputs": [
    {
     "data": {
      "text/plain": [
       "('ASRL8::INSTR', 'ASRL13::INSTR')"
      ]
     },
     "execution_count": 2,
     "metadata": {},
     "output_type": "execute_result"
    }
   ],
   "source": [
    "rm = pyvisa.ResourceManager()\n",
    "rm.list_resources()"
   ]
  },
  {
   "cell_type": "code",
   "execution_count": 22,
   "metadata": {},
   "outputs": [],
   "source": [
    "a = rm.open_resource('ASRL13::INSTR')"
   ]
  },
  {
   "cell_type": "code",
   "execution_count": 4,
   "metadata": {},
   "outputs": [],
   "source": [
    "def int_to_bytes(i):\n",
    "    return (i).to_bytes(1, byteorder='big')"
   ]
  },
  {
   "cell_type": "code",
   "execution_count": 5,
   "metadata": {},
   "outputs": [],
   "source": [
    "def read_registers(arduino):\n",
    "    print(arduino.query('r'), end='')\n",
    "    for i in range(23):\n",
    "        print(arduino.read(), end='')"
   ]
  },
  {
   "cell_type": "code",
   "execution_count": 26,
   "metadata": {},
   "outputs": [
    {
     "name": "stdout",
     "output_type": "stream",
     "text": [
      "Reading register contents:\n",
      "   0: 00000000,00000000,00000000,00000000,\n",
      "   1: 00000000,01000000,00001000,00100000,\n",
      "   2: 00011111,00111111,11000000,00000000,\n",
      "   3: 00000000,00000000,01111111,01111111,\n",
      "   4: 11111111,11111111,11111111,11111111,\n",
      "   5: 11101001,00100000,01000100,10001001,11000101,11110000,\n",
      "   6: 10000111,00100100,00000101,10101001,10000000,00101000,\n",
      "   7: 00000000,00000000,00000000,00000000,\n",
      "   8: 00000000,00000000,\n",
      "   9: 00000000,00000000,00000000,00000000,\n",
      "   A: 00000000,00000000,00000000,00000000,\n",
      "   B: 10000001,10011001,11000100,00011010,00111001,10100010,00000011,11000100,\n",
      "   C: 11000101,10100000,10110001,10000101,00000011,11000000,10000011,10110000,\n",
      "   D: 01001110,11010001,00000000,00011000,\n",
      "   E: 00001000,10110101,00000000,00000000,00010101,11000010,10001111,01011100,\n",
      "   F: 00001000,10110101,00000000,00000000,00010101,11000010,10001111,01011100,\n",
      "  10: 00001000,10110101,00000000,00000000,00010101,11000010,10001111,01011100,\n",
      "  11: 00001000,10110101,00000000,00000000,00010101,11000010,10001111,01011100,\n",
      "  12: 00001000,10110101,00000000,00000000,00010101,11000010,10001111,01011100,\n",
      "  13: 00001000,10110101,00000000,00000000,00010101,11000010,10001111,01011100,\n",
      "  14: 00001000,10110101,00000000,00000000,00010101,11000010,10001111,01011100,\n",
      "  15: 00001000,10110101,00000000,00000000,00010101,11000010,10001111,01011100,\n",
      "  16: 00111000,11010000,01010010,11000111,\n"
     ]
    }
   ],
   "source": [
    "read_registers(a)"
   ]
  },
  {
   "cell_type": "code",
   "execution_count": 18,
   "metadata": {},
   "outputs": [],
   "source": [
    "def write_register(arduino, reg, data_list):\n",
    "    # send the write command\n",
    "    arduino.write_raw(\n",
    "        b\"w\" \\\n",
    "          + bytes(bytearray([reg])) \\\n",
    "          + bytes(bytearray(data_list))\n",
    "      )\n",
    "    \n",
    "    # print Arduino's return text\n",
    "    print(arduino.read(), end='')\n",
    "    print(arduino.read(), end='')"
   ]
  },
  {
   "cell_type": "code",
   "execution_count": 25,
   "metadata": {},
   "outputs": [
    {
     "name": "stdout",
     "output_type": "stream",
     "text": [
      "Writing to register 2:   \n",
      "  00011111,00111111,11000000,00000000,\n",
      "Writing to register E:   \n",
      "  00001000,10110101,00000000,00000000,00010101,11000010,10001111,01011100,\n"
     ]
    }
   ],
   "source": [
    "write_register(a, 0x02, [0b00011111, 0b00111111, 0b11000000, 0b00000000])\n",
    "write_register(a, 0x0E, [0b00001000, 0b10110101, 0b00000000, 0b00000000, 0b00010101, 0b11000010, 0b10001111, 0b01011100])"
   ]
  },
  {
   "cell_type": "code",
   "execution_count": 21,
   "metadata": {},
   "outputs": [],
   "source": [
    "a.close()"
   ]
  }
 ],
 "metadata": {
  "kernelspec": {
   "display_name": "Python 3",
   "language": "python",
   "name": "python3"
  },
  "language_info": {
   "codemirror_mode": {
    "name": "ipython",
    "version": 3
   },
   "file_extension": ".py",
   "mimetype": "text/x-python",
   "name": "python",
   "nbconvert_exporter": "python",
   "pygments_lexer": "ipython3",
   "version": "3.6.4"
  }
 },
 "nbformat": 4,
 "nbformat_minor": 2
}
