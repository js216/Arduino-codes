{
 "cells": [
  {
   "cell_type": "code",
   "execution_count": 1,
   "metadata": {},
   "outputs": [],
   "source": [
    "import pyvisa"
   ]
  },
  {
   "cell_type": "code",
   "execution_count": 5,
   "metadata": {},
   "outputs": [
    {
     "data": {
      "text/plain": [
       "('ASRL1::INSTR', 'ASRL13::INSTR')"
      ]
     },
     "execution_count": 5,
     "metadata": {},
     "output_type": "execute_result"
    }
   ],
   "source": [
    "rm = pyvisa.ResourceManager()\n",
    "rm.list_resources()"
   ]
  },
  {
   "cell_type": "code",
   "execution_count": 6,
   "metadata": {},
   "outputs": [],
   "source": [
    "a = rm.open_resource('ASRL13::INSTR')"
   ]
  },
  {
   "cell_type": "code",
   "execution_count": 11,
   "metadata": {},
   "outputs": [],
   "source": [
    "def ascii_to_binary(asc):\n",
    "    return bin(int.from_bytes(asc.encode(), 'big'))\n",
    "\n",
    "def binary_to_ascii(bin_str):\n",
    "    return int(bin_str, 2).to_bytes((int(bin_str, 2).bit_length() + 7) // 8, 'big').decode()\n",
    "\n",
    "def hex_to_ascii(hex_str):\n",
    "    return int(hex_str, 16).to_bytes((int(hex_str, 16).bit_length() + 7) // 8, 'big').decode()"
   ]
  },
  {
   "cell_type": "code",
   "execution_count": 19,
   "metadata": {},
   "outputs": [],
   "source": [
    "def read_registers(arduino):\n",
    "    print(arduino.query('r'), end='')\n",
    "    for i in range(23):\n",
    "        print(arduino.read(), end='')"
   ]
  },
  {
   "cell_type": "code",
   "execution_count": 20,
   "metadata": {},
   "outputs": [
    {
     "name": "stdout",
     "output_type": "stream",
     "text": [
      "Reading register contents:\n",
      "   0: 00000000,00000000,00000000,00000000,\n",
      "   1: 00000000,00000000,00000000,00000000,\n",
      "   2: 00000000,00000000,00000000,00000000,\n",
      "   3: 00000000,00000000,00000000,00000000,\n",
      "   4: 00000000,00000000,00000000,00000000,\n",
      "   5: 00000000,00000000,00000000,00000000,00000000,00000000,\n",
      "   6: 00000000,00000000,00000000,00000000,00000000,00000000,\n",
      "   7: 00000000,00000000,00000000,00000000,\n",
      "   8: 00000000,00000000,\n",
      "   9: 00000000,00000000,00000000,00000000,\n",
      "   A: 00000000,00000000,00000000,00000000,\n",
      "   B: 00000000,00000000,00000000,00000000,00000000,00000000,00000000,00000000,\n",
      "   C: 00000000,00000000,00000000,00000000,00000000,00000000,00000000,00000000,\n",
      "   D: 00000000,00000000,00000000,00000000,\n",
      "   E: 00000000,00000000,00000000,00000000,00000000,00000000,00000000,00000000,\n",
      "   F: 00000000,00000000,00000000,00000000,00000000,00000000,00000000,00000000,\n",
      "  10: 00000000,00000000,00000000,00000000,00000000,00000000,00000000,00000000,\n",
      "  11: 00000000,00000000,00000000,00000000,00000000,00000000,00000000,00000000,\n",
      "  12: 00000000,00000000,00000000,00000000,00000000,00000000,00000000,00000000,\n",
      "  13: 00000000,00000000,00000000,00000000,00000000,00000000,00000000,00000000,\n",
      "  14: 00000000,00000000,00000000,00000000,00000000,00000000,00000000,00000000,\n",
      "  15: 00000000,00000000,00000000,00000000,00000000,00000000,00000000,00000000,\n",
      "  16: 00000000,00000000,00000000,00000000,\n"
     ]
    }
   ],
   "source": [
    "read_registers(a)"
   ]
  },
  {
   "cell_type": "code",
   "execution_count": 21,
   "metadata": {},
   "outputs": [
    {
     "name": "stdout",
     "output_type": "stream",
     "text": [
      "Writing to register 1:   \n",
      "\n",
      "  01000000,00001000,00100000,00001101,\n",
      "\n"
     ]
    }
   ],
   "source": [
    "ctrl_str = str('w') + hex_to_ascii('0x01') \\\n",
    "                + binary_to_ascii('0b00000000') \\\n",
    "                + binary_to_ascii('0b01000000') \\\n",
    "                + binary_to_ascii('0b00001000') \\\n",
    "                + binary_to_ascii('0b00100000')\n",
    "\n",
    "\n",
    "print(a.query( ctrl_str ))\n",
    "print(a.read())"
   ]
  },
  {
   "cell_type": "code",
   "execution_count": null,
   "metadata": {},
   "outputs": [],
   "source": []
  }
 ],
 "metadata": {
  "kernelspec": {
   "display_name": "Python 3",
   "language": "python",
   "name": "python3"
  },
  "language_info": {
   "codemirror_mode": {
    "name": "ipython",
    "version": 3
   },
   "file_extension": ".py",
   "mimetype": "text/x-python",
   "name": "python",
   "nbconvert_exporter": "python",
   "pygments_lexer": "ipython3",
   "version": "3.6.5"
  }
 },
 "nbformat": 4,
 "nbformat_minor": 2
}
